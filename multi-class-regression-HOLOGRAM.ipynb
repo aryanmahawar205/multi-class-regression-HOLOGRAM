{
  "nbformat": 4,
  "nbformat_minor": 0,
  "metadata": {
    "colab": {
      "provenance": []
    },
    "kernelspec": {
      "name": "python3",
      "display_name": "Python 3"
    },
    "language_info": {
      "name": "python"
    },
    "gpuClass": "standard"
  },
  "cells": [
    {
      "cell_type": "code",
      "execution_count": null,
      "metadata": {
        "id": "_H_RgferTUIT",
        "colab": {
          "base_uri": "https://localhost:8080/"
        },
        "outputId": "024da470-627a-478d-be4b-6b992bc29bf6"
      },
      "outputs": [
        {
          "output_type": "stream",
          "name": "stdout",
          "text": [
            "Requirement already satisfied: tensorflow in /usr/local/lib/python3.10/dist-packages (2.14.0)\n",
            "Requirement already satisfied: absl-py>=1.0.0 in /usr/local/lib/python3.10/dist-packages (from tensorflow) (1.4.0)\n",
            "Requirement already satisfied: astunparse>=1.6.0 in /usr/local/lib/python3.10/dist-packages (from tensorflow) (1.6.3)\n",
            "Requirement already satisfied: flatbuffers>=23.5.26 in /usr/local/lib/python3.10/dist-packages (from tensorflow) (23.5.26)\n",
            "Requirement already satisfied: gast!=0.5.0,!=0.5.1,!=0.5.2,>=0.2.1 in /usr/local/lib/python3.10/dist-packages (from tensorflow) (0.5.4)\n",
            "Requirement already satisfied: google-pasta>=0.1.1 in /usr/local/lib/python3.10/dist-packages (from tensorflow) (0.2.0)\n",
            "Requirement already satisfied: h5py>=2.9.0 in /usr/local/lib/python3.10/dist-packages (from tensorflow) (3.9.0)\n",
            "Requirement already satisfied: libclang>=13.0.0 in /usr/local/lib/python3.10/dist-packages (from tensorflow) (16.0.6)\n",
            "Requirement already satisfied: ml-dtypes==0.2.0 in /usr/local/lib/python3.10/dist-packages (from tensorflow) (0.2.0)\n",
            "Requirement already satisfied: numpy>=1.23.5 in /usr/local/lib/python3.10/dist-packages (from tensorflow) (1.23.5)\n",
            "Requirement already satisfied: opt-einsum>=2.3.2 in /usr/local/lib/python3.10/dist-packages (from tensorflow) (3.3.0)\n",
            "Requirement already satisfied: packaging in /usr/local/lib/python3.10/dist-packages (from tensorflow) (23.2)\n",
            "Requirement already satisfied: protobuf!=4.21.0,!=4.21.1,!=4.21.2,!=4.21.3,!=4.21.4,!=4.21.5,<5.0.0dev,>=3.20.3 in /usr/local/lib/python3.10/dist-packages (from tensorflow) (3.20.3)\n",
            "Requirement already satisfied: setuptools in /usr/local/lib/python3.10/dist-packages (from tensorflow) (67.7.2)\n",
            "Requirement already satisfied: six>=1.12.0 in /usr/local/lib/python3.10/dist-packages (from tensorflow) (1.16.0)\n",
            "Requirement already satisfied: termcolor>=1.1.0 in /usr/local/lib/python3.10/dist-packages (from tensorflow) (2.3.0)\n",
            "Requirement already satisfied: typing-extensions>=3.6.6 in /usr/local/lib/python3.10/dist-packages (from tensorflow) (4.5.0)\n",
            "Requirement already satisfied: wrapt<1.15,>=1.11.0 in /usr/local/lib/python3.10/dist-packages (from tensorflow) (1.14.1)\n",
            "Requirement already satisfied: tensorflow-io-gcs-filesystem>=0.23.1 in /usr/local/lib/python3.10/dist-packages (from tensorflow) (0.34.0)\n",
            "Requirement already satisfied: grpcio<2.0,>=1.24.3 in /usr/local/lib/python3.10/dist-packages (from tensorflow) (1.59.0)\n",
            "Requirement already satisfied: tensorboard<2.15,>=2.14 in /usr/local/lib/python3.10/dist-packages (from tensorflow) (2.14.1)\n",
            "Requirement already satisfied: tensorflow-estimator<2.15,>=2.14.0 in /usr/local/lib/python3.10/dist-packages (from tensorflow) (2.14.0)\n",
            "Requirement already satisfied: keras<2.15,>=2.14.0 in /usr/local/lib/python3.10/dist-packages (from tensorflow) (2.14.0)\n",
            "Requirement already satisfied: wheel<1.0,>=0.23.0 in /usr/local/lib/python3.10/dist-packages (from astunparse>=1.6.0->tensorflow) (0.41.2)\n",
            "Requirement already satisfied: google-auth<3,>=1.6.3 in /usr/local/lib/python3.10/dist-packages (from tensorboard<2.15,>=2.14->tensorflow) (2.17.3)\n",
            "Requirement already satisfied: google-auth-oauthlib<1.1,>=0.5 in /usr/local/lib/python3.10/dist-packages (from tensorboard<2.15,>=2.14->tensorflow) (1.0.0)\n",
            "Requirement already satisfied: markdown>=2.6.8 in /usr/local/lib/python3.10/dist-packages (from tensorboard<2.15,>=2.14->tensorflow) (3.5)\n",
            "Requirement already satisfied: requests<3,>=2.21.0 in /usr/local/lib/python3.10/dist-packages (from tensorboard<2.15,>=2.14->tensorflow) (2.31.0)\n",
            "Requirement already satisfied: tensorboard-data-server<0.8.0,>=0.7.0 in /usr/local/lib/python3.10/dist-packages (from tensorboard<2.15,>=2.14->tensorflow) (0.7.1)\n",
            "Requirement already satisfied: werkzeug>=1.0.1 in /usr/local/lib/python3.10/dist-packages (from tensorboard<2.15,>=2.14->tensorflow) (3.0.0)\n",
            "Requirement already satisfied: cachetools<6.0,>=2.0.0 in /usr/local/lib/python3.10/dist-packages (from google-auth<3,>=1.6.3->tensorboard<2.15,>=2.14->tensorflow) (5.3.1)\n",
            "Requirement already satisfied: pyasn1-modules>=0.2.1 in /usr/local/lib/python3.10/dist-packages (from google-auth<3,>=1.6.3->tensorboard<2.15,>=2.14->tensorflow) (0.3.0)\n",
            "Requirement already satisfied: rsa<5,>=3.1.4 in /usr/local/lib/python3.10/dist-packages (from google-auth<3,>=1.6.3->tensorboard<2.15,>=2.14->tensorflow) (4.9)\n",
            "Requirement already satisfied: requests-oauthlib>=0.7.0 in /usr/local/lib/python3.10/dist-packages (from google-auth-oauthlib<1.1,>=0.5->tensorboard<2.15,>=2.14->tensorflow) (1.3.1)\n",
            "Requirement already satisfied: charset-normalizer<4,>=2 in /usr/local/lib/python3.10/dist-packages (from requests<3,>=2.21.0->tensorboard<2.15,>=2.14->tensorflow) (3.3.0)\n",
            "Requirement already satisfied: idna<4,>=2.5 in /usr/local/lib/python3.10/dist-packages (from requests<3,>=2.21.0->tensorboard<2.15,>=2.14->tensorflow) (3.4)\n",
            "Requirement already satisfied: urllib3<3,>=1.21.1 in /usr/local/lib/python3.10/dist-packages (from requests<3,>=2.21.0->tensorboard<2.15,>=2.14->tensorflow) (2.0.7)\n",
            "Requirement already satisfied: certifi>=2017.4.17 in /usr/local/lib/python3.10/dist-packages (from requests<3,>=2.21.0->tensorboard<2.15,>=2.14->tensorflow) (2023.7.22)\n",
            "Requirement already satisfied: MarkupSafe>=2.1.1 in /usr/local/lib/python3.10/dist-packages (from werkzeug>=1.0.1->tensorboard<2.15,>=2.14->tensorflow) (2.1.3)\n",
            "Requirement already satisfied: pyasn1<0.6.0,>=0.4.6 in /usr/local/lib/python3.10/dist-packages (from pyasn1-modules>=0.2.1->google-auth<3,>=1.6.3->tensorboard<2.15,>=2.14->tensorflow) (0.5.0)\n",
            "Requirement already satisfied: oauthlib>=3.0.0 in /usr/local/lib/python3.10/dist-packages (from requests-oauthlib>=0.7.0->google-auth-oauthlib<1.1,>=0.5->tensorboard<2.15,>=2.14->tensorflow) (3.2.2)\n"
          ]
        }
      ],
      "source": [
        "!pip install tensorflow"
      ]
    },
    {
      "cell_type": "code",
      "source": [
        "import tensorflow as tf\n",
        "import os\n",
        "import math, numpy as np\n",
        "import matplotlib.pyplot as plt\n",
        "import h5py\n",
        "import glob\n",
        "import cv2\n",
        "from sklearn.metrics import confusion_matrix\n",
        "from PIL import Image\n",
        "from io import BytesIO\n",
        "from tensorflow.keras.preprocessing.image import ImageDataGenerator"
      ],
      "metadata": {
        "id": "xu_ZW4cRT1rF"
      },
      "execution_count": null,
      "outputs": []
    },
    {
      "cell_type": "code",
      "source": [
        "from google.colab import drive\n",
        "drive.mount('/content/drive')"
      ],
      "metadata": {
        "id": "leuKIVmRUBCM",
        "colab": {
          "base_uri": "https://localhost:8080/"
        },
        "outputId": "fa1cc78e-0e88-499f-cd1a-a002c2ecab9f"
      },
      "execution_count": null,
      "outputs": [
        {
          "output_type": "stream",
          "name": "stdout",
          "text": [
            "Mounted at /content/drive\n"
          ]
        }
      ]
    },
    {
      "cell_type": "code",
      "source": [
        "cd '/content/drive/MyDrive/largedatasetPH'"
      ],
      "metadata": {
        "id": "CqbYRU4xUD4A",
        "colab": {
          "base_uri": "https://localhost:8080/"
        },
        "outputId": "87bb5e31-132e-4674-ea5c-f20a2a9a9a01"
      },
      "execution_count": null,
      "outputs": [
        {
          "output_type": "stream",
          "name": "stdout",
          "text": [
            "/content/drive/MyDrive/largedatasetPH\n"
          ]
        }
      ]
    },
    {
      "cell_type": "code",
      "source": [
        "!1s"
      ],
      "metadata": {
        "id": "VJay-g3mUJFU",
        "colab": {
          "base_uri": "https://localhost:8080/"
        },
        "outputId": "f5a4d15f-964c-459f-d93b-e7f62acdee0e"
      },
      "execution_count": null,
      "outputs": [
        {
          "output_type": "stream",
          "name": "stdout",
          "text": [
            "a1.m  a2.m  a3.m  testingdata  traindata  validationdata\n"
          ]
        }
      ]
    },
    {
      "cell_type": "code",
      "source": [
        "from tensorflow.keras.preprocessing.image import ImageDataGenerator\n",
        "\n",
        "# All images will be rescaled by 1./255\n",
        "train_datagen = ImageDataGenerator(rescale=1/255)\n",
        "validation_datagen = ImageDataGenerator(rescale=1/255)\n",
        "test_datagen=ImageDataGenerator(rescale=1/255)\n",
        "\n",
        "# Flow training images using train_datagen generator\n",
        "train_generator = train_datagen.flow_from_directory(\n",
        "        '/content/drive/MyDrive/largedatasetPH/traindata',  # This is the source directory for training images\n",
        "        target_size=(160,160), # All images will be resized to 160x160\n",
        "        batch_size=21,\n",
        "        # Since we use categorical_crossentropy loss, we need multiple labels\n",
        "        class_mode='categorical')\n",
        "\n",
        "# Flow validation images using validation_datagen generator\n",
        "validation_generator = validation_datagen.flow_from_directory(\n",
        "        '/content/drive/MyDrive/largedatasetPH/validationdata',  # This is the source directory for validation images\n",
        "        target_size=(160,160), #All images will be resized to 160x160\n",
        "        batch_size=20,\n",
        "        # Since we use categorical_crossentropy loss, we need multiple labels\n",
        "        class_mode='categorical')\n",
        "\n",
        "# Flow test images using test_datagen generator\n",
        "test_generator = test_datagen.flow_from_directory(\n",
        "      '/content/drive/MyDrive/largedatasetPH/testingdata',  # This is the source directory for test images\n",
        "        target_size=(160,160), #All images will be resized to 160x160\n",
        "        batch_size=23,\n",
        "        # Since we use categorical_crossentropy loss, we need multiple labels\n",
        "        class_mode='categorical')"
      ],
      "metadata": {
        "id": "NJXEmZCTULli",
        "colab": {
          "base_uri": "https://localhost:8080/"
        },
        "outputId": "59b47f14-a98c-47f6-9eee-fa1d70134d1c"
      },
      "execution_count": null,
      "outputs": [
        {
          "output_type": "stream",
          "name": "stdout",
          "text": [
            "Found 1700 images belonging to 5 classes.\n",
            "Found 340 images belonging to 5 classes.\n",
            "Found 226 images belonging to 5 classes.\n"
          ]
        }
      ]
    },
    {
      "cell_type": "code",
      "source": [
        "model = tf.keras.models.Sequential([\n",
        "  tf.keras.layers.Conv2D(8, (3,3), activation='relu', input_shape=(160,160,3)),\n",
        "  tf.keras.layers.MaxPooling2D(2,2),\n",
        "  tf.keras.layers.Conv2D(16, (3,3), activation='relu'),\n",
        "  tf.keras.layers.MaxPooling2D(2,2),\n",
        "  tf.keras.layers.Conv2D(32,(3,3),activation='relu'),\n",
        "  tf.keras.layers.MaxPooling2D(2,2),\n",
        "  tf.keras.layers.Conv2D(64,(3,3),activation='relu'),\n",
        "  tf.keras.layers.MaxPooling2D(2,2),\n",
        "  tf.keras.layers.Flatten(),\n",
        "  tf.keras.layers.Dense(16, activation='relu'),\n",
        "  tf.keras.layers.Dense(5, activation='linear')\n",
        "])"
      ],
      "metadata": {
        "id": "6AVRd8fSUsXQ"
      },
      "execution_count": null,
      "outputs": []
    },
    {
      "cell_type": "code",
      "source": [
        "model.summary()"
      ],
      "metadata": {
        "id": "Qw9Yr-IfU3RC",
        "colab": {
          "base_uri": "https://localhost:8080/"
        },
        "outputId": "c5594021-b4ae-4ad8-9dd2-8ff4ea8839ce"
      },
      "execution_count": null,
      "outputs": [
        {
          "output_type": "stream",
          "name": "stdout",
          "text": [
            "Model: \"sequential\"\n",
            "_________________________________________________________________\n",
            " Layer (type)                Output Shape              Param #   \n",
            "=================================================================\n",
            " conv2d (Conv2D)             (None, 158, 158, 8)       224       \n",
            "                                                                 \n",
            " max_pooling2d (MaxPooling2D  (None, 79, 79, 8)        0         \n",
            " )                                                               \n",
            "                                                                 \n",
            " conv2d_1 (Conv2D)           (None, 77, 77, 16)        1168      \n",
            "                                                                 \n",
            " max_pooling2d_1 (MaxPooling  (None, 38, 38, 16)       0         \n",
            " 2D)                                                             \n",
            "                                                                 \n",
            " conv2d_2 (Conv2D)           (None, 36, 36, 32)        4640      \n",
            "                                                                 \n",
            " max_pooling2d_2 (MaxPooling  (None, 18, 18, 32)       0         \n",
            " 2D)                                                             \n",
            "                                                                 \n",
            " conv2d_3 (Conv2D)           (None, 16, 16, 64)        18496     \n",
            "                                                                 \n",
            " max_pooling2d_3 (MaxPooling  (None, 8, 8, 64)         0         \n",
            " 2D)                                                             \n",
            "                                                                 \n",
            " flatten (Flatten)           (None, 4096)              0         \n",
            "                                                                 \n",
            " dense (Dense)               (None, 16)                65552     \n",
            "                                                                 \n",
            " dense_1 (Dense)             (None, 5)                 85        \n",
            "                                                                 \n",
            "=================================================================\n",
            "Total params: 90,165\n",
            "Trainable params: 90,165\n",
            "Non-trainable params: 0\n",
            "_________________________________________________________________\n"
          ]
        }
      ]
    },
    {
      "cell_type": "code",
      "source": [
        "model.compile(tf.keras.optimizers.Adam(learning_rate=0.0003,name='Adam'), loss='mse', metrics=['mse','mae'])"
      ],
      "metadata": {
        "id": "YTs0ie4SU61p"
      },
      "execution_count": null,
      "outputs": []
    },
    {
      "cell_type": "code",
      "source": [
        "# Train/fit the model using the training and validation set.\n",
        "\n",
        "history = model.fit_generator(\n",
        "      train_generator,\n",
        "      steps_per_epoch=81,\n",
        "      epochs=10,\n",
        "      validation_data = validation_generator,\n",
        "      validation_steps=17,\n",
        "      verbose=2)"
      ],
      "metadata": {
        "id": "lLvhkTkwVAD0",
        "colab": {
          "base_uri": "https://localhost:8080/"
        },
        "outputId": "288a495a-da83-4b35-b52b-bdc2fe15c11d"
      },
      "execution_count": null,
      "outputs": [
        {
          "output_type": "stream",
          "name": "stderr",
          "text": [
            "<ipython-input-11-f2ee68c3b508>:3: UserWarning: `Model.fit_generator` is deprecated and will be removed in a future version. Please use `Model.fit`, which supports generators.\n",
            "  history = model.fit_generator(\n"
          ]
        },
        {
          "output_type": "stream",
          "name": "stdout",
          "text": [
            "Epoch 1/10\n",
            "81/81 - 331s - loss: 0.1652 - mse: 0.1652 - mae: 0.3105 - val_loss: 0.1608 - val_mse: 0.1608 - val_mae: 0.3188 - 331s/epoch - 4s/step\n",
            "Epoch 2/10\n",
            "81/81 - 64s - loss: 0.1573 - mse: 0.1573 - mae: 0.3147 - val_loss: 0.1582 - val_mse: 0.1582 - val_mae: 0.3047 - 64s/epoch - 795ms/step\n",
            "Epoch 3/10\n",
            "81/81 - 58s - loss: 0.1490 - mse: 0.1490 - mae: 0.3022 - val_loss: 0.1522 - val_mse: 0.1522 - val_mae: 0.3091 - 58s/epoch - 713ms/step\n",
            "Epoch 4/10\n",
            "81/81 - 62s - loss: 0.1421 - mse: 0.1421 - mae: 0.2920 - val_loss: 0.1492 - val_mse: 0.1492 - val_mae: 0.3015 - 62s/epoch - 768ms/step\n",
            "Epoch 5/10\n",
            "81/81 - 50s - loss: 0.1375 - mse: 0.1375 - mae: 0.2861 - val_loss: 0.1473 - val_mse: 0.1473 - val_mae: 0.2938 - 50s/epoch - 615ms/step\n",
            "Epoch 6/10\n",
            "81/81 - 75s - loss: 0.1349 - mse: 0.1349 - mae: 0.2807 - val_loss: 0.1473 - val_mse: 0.1473 - val_mae: 0.3048 - 75s/epoch - 926ms/step\n",
            "Epoch 7/10\n",
            "81/81 - 71s - loss: 0.1339 - mse: 0.1339 - mae: 0.2775 - val_loss: 0.1439 - val_mse: 0.1439 - val_mae: 0.2947 - 71s/epoch - 882ms/step\n",
            "Epoch 8/10\n",
            "81/81 - 61s - loss: 0.1331 - mse: 0.1331 - mae: 0.2755 - val_loss: 0.1432 - val_mse: 0.1432 - val_mae: 0.2942 - 61s/epoch - 751ms/step\n",
            "Epoch 9/10\n",
            "81/81 - 67s - loss: 0.1323 - mse: 0.1323 - mae: 0.2738 - val_loss: 0.1450 - val_mse: 0.1450 - val_mae: 0.2898 - 67s/epoch - 824ms/step\n",
            "Epoch 10/10\n",
            "81/81 - 52s - loss: 0.1307 - mse: 0.1307 - mae: 0.2710 - val_loss: 0.1428 - val_mse: 0.1428 - val_mae: 0.2900 - 52s/epoch - 645ms/step\n"
          ]
        }
      ]
    },
    {
      "cell_type": "code",
      "source": [
        "# Plot the Training and Validation loss\n",
        "loss = history.history['loss']\n",
        "val_loss = history.history['val_loss']\n",
        "\n",
        "Epoch = range(len(loss))\n",
        "\n",
        "plt.figure()\n",
        "\n",
        "plt.plot(Epoch, loss, 'r', label='Training loss')\n",
        "plt.plot(Epoch, val_loss, 'b', label='Validation loss')\n",
        "plt.legend()\n",
        "plt.xlabel('Epoch')\n",
        "plt.ylabel('Loss')"
      ],
      "metadata": {
        "id": "wCSWdkYtVGU6",
        "colab": {
          "base_uri": "https://localhost:8080/",
          "height": 466
        },
        "outputId": "8e991237-e3ea-4176-9066-79f19c72fda3"
      },
      "execution_count": null,
      "outputs": [
        {
          "output_type": "execute_result",
          "data": {
            "text/plain": [
              "Text(0, 0.5, 'Loss')"
            ]
          },
          "metadata": {},
          "execution_count": 12
        },
        {
          "output_type": "display_data",
          "data": {
            "text/plain": [
              "<Figure size 640x480 with 1 Axes>"
            ],
            "image/png": "[encoded data removed]"
          },
          "metadata": {}
        }
      ]
    },
    {
      "cell_type": "code",
      "source": [
        "# Plot the Training and Validation mse\n",
        "mse = history.history['mse']\n",
        "val_mse = history.history['val_mse']\n",
        "\n",
        "Epoch = range(len(mse))\n",
        "\n",
        "plt.figure()\n",
        "\n",
        "plt.plot(Epoch, mse, 'r', label='Training mse')\n",
        "plt.plot(Epoch, val_mse, 'b', label='Validation mse')\n",
        "plt.legend()\n",
        "plt.xlabel('Epoch')\n",
        "plt.ylabel('mse')"
      ],
      "metadata": {
        "id": "wRJv3ukKVJ8u",
        "colab": {
          "base_uri": "https://localhost:8080/",
          "height": 466
        },
        "outputId": "b97079fb-0054-4640-8224-a38f4ff844cb"
      },
      "execution_count": null,
      "outputs": [
        {
          "output_type": "execute_result",
          "data": {
            "text/plain": [
              "Text(0, 0.5, 'mse')"
            ]
          },
          "metadata": {},
          "execution_count": 13
        },
        {
          "output_type": "display_data",
          "data": {
            "text/plain": [
              "<Figure size 640x480 with 1 Axes>"
            ],
            "image/png": "[encoded data removed]"
          },
          "metadata": {}
        }
      ]
    },
    {
      "cell_type": "code",
      "source": [
        "# Plot the Training and Validation mae\n",
        "mae = history.history['mae']\n",
        "val_mae = history.history['val_mae']\n",
        "\n",
        "Epoch = range(len(mae))\n",
        "\n",
        "plt.figure()\n",
        "\n",
        "plt.plot(Epoch, mae, 'r', label='Training')\n",
        "plt.plot(Epoch, val_mae, 'b', label='Validation')\n",
        "plt.legend()\n",
        "plt.xlabel('Epoch')\n",
        "plt.ylabel('mae')"
      ],
      "metadata": {
        "colab": {
          "base_uri": "https://localhost:8080/",
          "height": 466
        },
        "id": "YmTeB2NGyIp2",
        "outputId": "0eacbf55-30d1-433b-c2df-7476fe7f788e"
      },
      "execution_count": null,
      "outputs": [
        {
          "output_type": "execute_result",
          "data": {
            "text/plain": [
              "Text(0, 0.5, 'mae')"
            ]
          },
          "metadata": {},
          "execution_count": 14
        },
        {
          "output_type": "display_data",
          "data": {
            "text/plain": [
              "<Figure size 640x480 with 1 Axes>"
            ],
            "image/png": "[encoded data removed]"
          },
          "metadata": {}
        }
      ]
    },
    {
      "cell_type": "code",
      "source": [
        "# Plot the Training and Validation loss , mse and mae\n",
        "loss = history.history['loss']\n",
        "val_loss = history.history['val_loss']\n",
        "mse = history.history['mse']\n",
        "val_mse = history.history['val_mse']\n",
        "mae=history.history['mae']\n",
        "val_mae = history.history['val_mae']\n",
        "\n",
        "Epoch = range(len(loss))\n",
        "\n",
        "plt.figure()\n",
        "\n",
        "plt.plot(Epoch, loss, label='Training loss')\n",
        "plt.plot(Epoch, val_loss, label='Validation loss')\n",
        "plt.plot(Epoch, mse, label='Training mse')\n",
        "plt.plot(Epoch, val_mse , label='Validation mse')\n",
        "plt.plot(Epoch, mae, label= 'Training mae')\n",
        "plt.plot(Epoch, val_mae, label= 'validation mae')\n",
        "plt.legend()\n",
        "plt.xlabel('Epoch')\n",
        "plt.ylabel('Loss and mse and mae')"
      ],
      "metadata": {
        "colab": {
          "base_uri": "https://localhost:8080/",
          "height": 466
        },
        "id": "tniWw2l1ynwr",
        "outputId": "5b37c654-f3bc-4a70-99fe-513f9c18b03d"
      },
      "execution_count": null,
      "outputs": [
        {
          "output_type": "execute_result",
          "data": {
            "text/plain": [
              "Text(0, 0.5, 'Loss and mse and mae')"
            ]
          },
          "metadata": {},
          "execution_count": 15
        },
        {
          "output_type": "display_data",
          "data": {
            "text/plain": [
              "<Figure size 640x480 with 1 Axes>"
            ],
            "image/png": "[encoded data removed]"
          },
          "metadata": {}
        }
      ]
    },
    {
      "cell_type": "code",
      "source": [
        "testresult=model.evaluate(test_generator)"
      ],
      "metadata": {
        "id": "V9gRXlPhXqFA",
        "colab": {
          "base_uri": "https://localhost:8080/"
        },
        "outputId": "7068154c-b025-4f12-f49e-744e7f47f781"
      },
      "execution_count": null,
      "outputs": [
        {
          "output_type": "stream",
          "name": "stdout",
          "text": [
            "10/10 [==============================] - 37s 4s/step - loss: 0.1622 - mse: 0.1622 - mae: 0.2917\n"
          ]
        }
      ]
    },
    {
      "cell_type": "code",
      "source": [
        "x_train,y_train=next(train_generator)"
      ],
      "metadata": {
        "id": "w8I91eE2X3JR"
      },
      "execution_count": null,
      "outputs": []
    },
    {
      "cell_type": "code",
      "source": [
        "x_val,y_val=next(validation_generator)"
      ],
      "metadata": {
        "id": "nF2Wyz72X9-D"
      },
      "execution_count": null,
      "outputs": []
    },
    {
      "cell_type": "code",
      "source": [
        "x_test,y_test=next(test_generator)"
      ],
      "metadata": {
        "id": "7XWuTdvdYG9v"
      },
      "execution_count": null,
      "outputs": []
    },
    {
      "cell_type": "code",
      "source": [
        "print(np.shape(x_train))\n",
        "print(np.shape(y_train))\n",
        "print(np.shape(x_val))\n",
        "print(np.shape(y_val))\n",
        "print(np.shape(x_test))\n",
        "print(np.shape(y_test))"
      ],
      "metadata": {
        "id": "pUXEGd3zYOyN",
        "colab": {
          "base_uri": "https://localhost:8080/"
        },
        "outputId": "fcd6e50d-c870-4a10-abc8-f13f7e720073"
      },
      "execution_count": null,
      "outputs": [
        {
          "output_type": "stream",
          "name": "stdout",
          "text": [
            "(21, 160, 160, 3)\n",
            "(21, 5)\n",
            "(20, 160, 160, 3)\n",
            "(20, 5)\n",
            "(23, 160, 160, 3)\n",
            "(23, 5)\n"
          ]
        }
      ]
    },
    {
      "cell_type": "code",
      "source": [
        "y_true=y_test\n",
        "print(y_true)\n",
        "print(np.shape(y_true))"
      ],
      "metadata": {
        "id": "5zRtQt11Yxe6",
        "colab": {
          "base_uri": "https://localhost:8080/"
        },
        "outputId": "801d9a4d-24e2-4ada-c6d2-5df210dd0144"
      },
      "execution_count": null,
      "outputs": [
        {
          "output_type": "stream",
          "name": "stdout",
          "text": [
            "[[0. 0. 0. 0. 1.]\n",
            " [0. 1. 0. 0. 0.]\n",
            " [0. 0. 1. 0. 0.]\n",
            " [1. 0. 0. 0. 0.]\n",
            " [0. 0. 0. 1. 0.]\n",
            " [0. 1. 0. 0. 0.]\n",
            " [0. 0. 0. 0. 1.]\n",
            " [0. 0. 0. 1. 0.]\n",
            " [0. 0. 0. 1. 0.]\n",
            " [0. 0. 0. 1. 0.]\n",
            " [0. 0. 0. 0. 1.]\n",
            " [1. 0. 0. 0. 0.]\n",
            " [0. 0. 1. 0. 0.]\n",
            " [0. 0. 1. 0. 0.]\n",
            " [0. 0. 0. 1. 0.]\n",
            " [1. 0. 0. 0. 0.]\n",
            " [0. 1. 0. 0. 0.]\n",
            " [0. 0. 0. 1. 0.]\n",
            " [0. 0. 0. 1. 0.]\n",
            " [0. 0. 0. 1. 0.]\n",
            " [0. 1. 0. 0. 0.]\n",
            " [1. 0. 0. 0. 0.]\n",
            " [1. 0. 0. 0. 0.]]\n",
            "(23, 5)\n"
          ]
        }
      ]
    },
    {
      "cell_type": "code",
      "source": [
        "y_pred=model.predict(x_test)\n",
        "print(y_pred)\n",
        "print(np.shape(y_pred))"
      ],
      "metadata": {
        "id": "ACofP0xpY6Dn",
        "colab": {
          "base_uri": "https://localhost:8080/"
        },
        "outputId": "eaab6f48-871c-42df-bcca-7c9472703425"
      },
      "execution_count": null,
      "outputs": [
        {
          "output_type": "stream",
          "name": "stdout",
          "text": [
            "1/1 [==============================] - 0s 277ms/step\n",
            "[[ 0.08797663  0.8314718  -0.04568015  0.00304323  0.02624518]\n",
            " [ 0.1389129   0.7136681  -0.07212432 -0.04192946  0.04799462]\n",
            " [ 0.25747156  0.01818045  0.28535107  0.2603502   0.24208856]\n",
            " [ 0.06152423  0.7658386  -0.02081118  0.02917504  0.01472724]\n",
            " [ 0.02237388 -0.0925495   0.35473844  0.38583076  0.32940128]\n",
            " [ 0.1549787   0.6079173   0.05517184  0.0779165   0.07319792]\n",
            " [ 0.26949435  0.14337951  0.20622183  0.18210652  0.19494319]\n",
            " [ 0.2344856   0.15470627  0.23265973  0.21942045  0.21407479]\n",
            " [ 0.2972498   0.06006638  0.23549804  0.20603311  0.27668422]\n",
            " [ 0.39428735  0.17702405  0.08710026  0.03174811  0.16298486]\n",
            " [ 0.24182779  0.23344892  0.19200157  0.17984657  0.18913569]\n",
            " [ 0.06662377  0.5255836   0.07947458  0.12069792  0.10773192]\n",
            " [ 0.08797663  0.8314718  -0.04568015  0.00304323  0.02624518]\n",
            " [ 0.08847507  0.9721292  -0.04534857  0.01266077  0.02636368]\n",
            " [ 0.29473177  0.00603929  0.2847644   0.24886829  0.22648737]\n",
            " [ 0.24493769  0.42939472  0.12140698  0.11628883  0.13209794]\n",
            " [ 0.20997752  0.46177793 -0.0323232  -0.03337998  0.07306931]\n",
            " [ 0.2994682   0.06207735  0.23420437  0.20440955  0.2776548 ]\n",
            " [ 0.27590743  0.17914228  0.17843603  0.15440439  0.18900153]\n",
            " [ 0.31147757  0.07647973  0.22804622  0.19752161  0.29316342]\n",
            " [ 0.11610713  0.6788467   0.02998727  0.06532537  0.05949336]\n",
            " [ 0.10566359  0.48920557  0.09852371  0.12953812  0.12379108]\n",
            " [ 0.07635411  0.6263825  -0.03258346  0.00572761  0.03098746]]\n",
            "(23, 5)\n"
          ]
        }
      ]
    },
    {
      "cell_type": "code",
      "source": [
        "yt_true=y_true.astype(int)\n",
        "print(yt_true)\n",
        "print(np.shape(yt_true))"
      ],
      "metadata": {
        "id": "9neAikDDZM0f",
        "colab": {
          "base_uri": "https://localhost:8080/"
        },
        "outputId": "aa6e57d8-c15c-4392-cc10-bb874f6316f7"
      },
      "execution_count": null,
      "outputs": [
        {
          "output_type": "stream",
          "name": "stdout",
          "text": [
            "[[0 0 0 0 1]\n",
            " [0 1 0 0 0]\n",
            " [0 0 1 0 0]\n",
            " [1 0 0 0 0]\n",
            " [0 0 0 1 0]\n",
            " [0 1 0 0 0]\n",
            " [0 0 0 0 1]\n",
            " [0 0 0 1 0]\n",
            " [0 0 0 1 0]\n",
            " [0 0 0 1 0]\n",
            " [0 0 0 0 1]\n",
            " [1 0 0 0 0]\n",
            " [0 0 1 0 0]\n",
            " [0 0 1 0 0]\n",
            " [0 0 0 1 0]\n",
            " [1 0 0 0 0]\n",
            " [0 1 0 0 0]\n",
            " [0 0 0 1 0]\n",
            " [0 0 0 1 0]\n",
            " [0 0 0 1 0]\n",
            " [0 1 0 0 0]\n",
            " [1 0 0 0 0]\n",
            " [1 0 0 0 0]]\n",
            "(23, 5)\n"
          ]
        }
      ]
    },
    {
      "cell_type": "code",
      "source": [
        "yp_pred=np.round(y_pred)\n",
        "print(yp_pred)\n",
        "print(np.shape(yp_pred))"
      ],
      "metadata": {
        "id": "38qMYoBnZa95",
        "colab": {
          "base_uri": "https://localhost:8080/"
        },
        "outputId": "6e56b606-afcf-4c18-d7d3-83b4e81dbf87"
      },
      "execution_count": null,
      "outputs": [
        {
          "output_type": "stream",
          "name": "stdout",
          "text": [
            "[[ 0.  1. -0.  0.  0.]\n",
            " [ 0.  1. -0. -0.  0.]\n",
            " [ 0.  0.  0.  0.  0.]\n",
            " [ 0.  1. -0.  0.  0.]\n",
            " [ 0. -0.  0.  0.  0.]\n",
            " [ 0.  1.  0.  0.  0.]\n",
            " [ 0.  0.  0.  0.  0.]\n",
            " [ 0.  0.  0.  0.  0.]\n",
            " [ 0.  0.  0.  0.  0.]\n",
            " [ 0.  0.  0.  0.  0.]\n",
            " [ 0.  0.  0.  0.  0.]\n",
            " [ 0.  1.  0.  0.  0.]\n",
            " [ 0.  1. -0.  0.  0.]\n",
            " [ 0.  1. -0.  0.  0.]\n",
            " [ 0.  0.  0.  0.  0.]\n",
            " [ 0.  0.  0.  0.  0.]\n",
            " [ 0.  0. -0. -0.  0.]\n",
            " [ 0.  0.  0.  0.  0.]\n",
            " [ 0.  0.  0.  0.  0.]\n",
            " [ 0.  0.  0.  0.  0.]\n",
            " [ 0.  1.  0.  0.  0.]\n",
            " [ 0.  0.  0.  0.  0.]\n",
            " [ 0.  1. -0.  0.  0.]]\n",
            "(23, 5)\n"
          ]
        }
      ]
    },
    {
      "cell_type": "code",
      "source": [
        "y_true1=y_val\n",
        "print(y_true1)\n",
        "print(np.shape(y_true1))"
      ],
      "metadata": {
        "colab": {
          "base_uri": "https://localhost:8080/"
        },
        "id": "n4YYQML71EDr",
        "outputId": "eb089616-f24a-4784-e3e3-bdcbf6b2f2c0"
      },
      "execution_count": null,
      "outputs": [
        {
          "output_type": "stream",
          "name": "stdout",
          "text": [
            "[[1. 0. 0. 0. 0.]\n",
            " [0. 0. 1. 0. 0.]\n",
            " [0. 0. 0. 1. 0.]\n",
            " [0. 0. 1. 0. 0.]\n",
            " [0. 0. 0. 1. 0.]\n",
            " [0. 0. 0. 1. 0.]\n",
            " [1. 0. 0. 0. 0.]\n",
            " [0. 0. 0. 0. 1.]\n",
            " [0. 0. 1. 0. 0.]\n",
            " [0. 0. 0. 0. 1.]\n",
            " [1. 0. 0. 0. 0.]\n",
            " [0. 0. 0. 1. 0.]\n",
            " [0. 0. 0. 0. 1.]\n",
            " [0. 0. 1. 0. 0.]\n",
            " [0. 1. 0. 0. 0.]\n",
            " [0. 0. 0. 1. 0.]\n",
            " [0. 1. 0. 0. 0.]\n",
            " [0. 0. 0. 1. 0.]\n",
            " [0. 1. 0. 0. 0.]\n",
            " [0. 1. 0. 0. 0.]]\n",
            "(20, 5)\n"
          ]
        }
      ]
    },
    {
      "cell_type": "code",
      "source": [
        "y_pred1=model.predict(x_val)\n",
        "print(y_pred1)\n",
        "print(np.shape(y_pred1))"
      ],
      "metadata": {
        "colab": {
          "base_uri": "https://localhost:8080/"
        },
        "id": "UD1dL5nv1Jtl",
        "outputId": "49f1fc4f-c76b-404f-972d-a436299fb5e5"
      },
      "execution_count": null,
      "outputs": [
        {
          "output_type": "stream",
          "name": "stdout",
          "text": [
            "1/1 [==============================] - 0s 117ms/step\n",
            "[[ 2.73565978e-01  3.40265594e-02  2.57248431e-01  2.31243402e-01\n",
            "   2.68268377e-01]\n",
            " [ 2.67417103e-01 -1.42312674e-02  2.99517751e-01  2.68705130e-01\n",
            "   2.23820657e-01]\n",
            " [ 2.66929090e-01 -5.07453345e-02  3.52679342e-01  3.20031494e-01\n",
            "   2.22438782e-01]\n",
            " [ 2.73172408e-01 -5.96404858e-02  3.65319073e-01  3.30239862e-01\n",
            "   2.16154546e-01]\n",
            " [ 2.85615712e-01  4.62778471e-02  2.48310164e-01  2.20588714e-01\n",
            "   2.73643792e-01]\n",
            " [ 3.05997521e-01  8.07866976e-02  2.05607891e-01  1.74642652e-01\n",
            "   2.70717472e-01]\n",
            " [ 3.36887598e-01  8.20861086e-02  2.25073829e-01  1.87861636e-01\n",
            "   2.80556977e-01]\n",
            " [ 2.51252383e-01  4.27295901e-02  2.18909770e-01  1.96455941e-01\n",
            "   2.44327128e-01]\n",
            " [ 3.33341897e-01  6.08668439e-02  2.51786649e-01  2.13895887e-01\n",
            "   2.75467247e-01]\n",
            " [ 2.57471561e-01  1.81804486e-02  2.85351068e-01  2.60350198e-01\n",
            "   2.42088556e-01]\n",
            " [ 2.76043057e-01  3.65158282e-02  2.55602837e-01  2.29265034e-01\n",
            "   2.69624293e-01]\n",
            " [ 2.91790038e-01  5.33125661e-02  2.42366254e-01  2.13768482e-01\n",
            "   2.75993168e-01]\n",
            " [ 2.14798108e-01 -8.67303014e-02  4.02611345e-01  3.83541167e-01\n",
            "   2.60937840e-01]\n",
            " [ 3.05997521e-01  8.07866976e-02  2.05607891e-01  1.74642652e-01\n",
            "   2.70717472e-01]\n",
            " [ 2.41780486e-02  1.13494205e+00 -1.19092669e-02  7.04305992e-02\n",
            "  -1.10008754e-03]\n",
            " [ 2.99808472e-01  6.26591370e-02  2.31376514e-01  2.01222271e-01\n",
            "   2.74045199e-01]\n",
            " [ 2.77673155e-01  3.14429164e-01  1.23103164e-01  1.04264610e-01\n",
            "   1.53638169e-01]\n",
            " [ 3.04739505e-01  7.57888630e-02  2.12209806e-01  1.81258604e-01\n",
            "   2.70403385e-01]\n",
            " [ 4.20475274e-01  2.22595051e-01  1.30226389e-01  7.17246160e-02\n",
            "   1.57164246e-01]\n",
            " [ 2.56279439e-01  4.00491893e-01  6.43399730e-02  5.27255051e-02\n",
            "   1.16501637e-01]]\n",
            "(20, 5)\n"
          ]
        }
      ]
    },
    {
      "cell_type": "code",
      "source": [
        "yt_true1=y_true1.astype(int)\n",
        "print(yt_true1)\n",
        "print(np.shape(yt_true1))"
      ],
      "metadata": {
        "colab": {
          "base_uri": "https://localhost:8080/"
        },
        "id": "4OCpYd231QRf",
        "outputId": "fea4f13f-bf41-4600-df6a-54a393cda122"
      },
      "execution_count": null,
      "outputs": [
        {
          "output_type": "stream",
          "name": "stdout",
          "text": [
            "[[1 0 0 0 0]\n",
            " [0 0 1 0 0]\n",
            " [0 0 0 1 0]\n",
            " [0 0 1 0 0]\n",
            " [0 0 0 1 0]\n",
            " [0 0 0 1 0]\n",
            " [1 0 0 0 0]\n",
            " [0 0 0 0 1]\n",
            " [0 0 1 0 0]\n",
            " [0 0 0 0 1]\n",
            " [1 0 0 0 0]\n",
            " [0 0 0 1 0]\n",
            " [0 0 0 0 1]\n",
            " [0 0 1 0 0]\n",
            " [0 1 0 0 0]\n",
            " [0 0 0 1 0]\n",
            " [0 1 0 0 0]\n",
            " [0 0 0 1 0]\n",
            " [0 1 0 0 0]\n",
            " [0 1 0 0 0]]\n",
            "(20, 5)\n"
          ]
        }
      ]
    },
    {
      "cell_type": "code",
      "source": [
        "yp_pred1=np.round(y_pred1)\n",
        "print(yp_pred1)\n",
        "print(np.shape(yp_pred1))"
      ],
      "metadata": {
        "colab": {
          "base_uri": "https://localhost:8080/"
        },
        "id": "f-FXoaTI1VtA",
        "outputId": "ea9b5df8-d929-4f80-968b-a9f794de8042"
      },
      "execution_count": null,
      "outputs": [
        {
          "output_type": "stream",
          "name": "stdout",
          "text": [
            "[[ 0.  0.  0.  0.  0.]\n",
            " [ 0. -0.  0.  0.  0.]\n",
            " [ 0. -0.  0.  0.  0.]\n",
            " [ 0. -0.  0.  0.  0.]\n",
            " [ 0.  0.  0.  0.  0.]\n",
            " [ 0.  0.  0.  0.  0.]\n",
            " [ 0.  0.  0.  0.  0.]\n",
            " [ 0.  0.  0.  0.  0.]\n",
            " [ 0.  0.  0.  0.  0.]\n",
            " [ 0.  0.  0.  0.  0.]\n",
            " [ 0.  0.  0.  0.  0.]\n",
            " [ 0.  0.  0.  0.  0.]\n",
            " [ 0. -0.  0.  0.  0.]\n",
            " [ 0.  0.  0.  0.  0.]\n",
            " [ 0.  1. -0.  0. -0.]\n",
            " [ 0.  0.  0.  0.  0.]\n",
            " [ 0.  0.  0.  0.  0.]\n",
            " [ 0.  0.  0.  0.  0.]\n",
            " [ 0.  0.  0.  0.  0.]\n",
            " [ 0.  0.  0.  0.  0.]]\n",
            "(20, 5)\n"
          ]
        }
      ]
    },
    {
      "cell_type": "code",
      "source": [
        "from sklearn.metrics import mean_absolute_error,r2_score,explained_variance_score\n",
        "\n",
        "\n",
        "cm1=mean_absolute_error(yt_true,yp_pred)\n",
        "cm2=r2_score(yt_true,yp_pred)\n",
        "cm3=explained_variance_score(yt_true,yp_pred)\n",
        "print(cm1)\n",
        "print(cm2)\n",
        "print(cm3)"
      ],
      "metadata": {
        "colab": {
          "base_uri": "https://localhost:8080/"
        },
        "id": "og288eIh0aAI",
        "outputId": "b1c95a32-1173-4968-d05e-4adc40fc51f6"
      },
      "execution_count": null,
      "outputs": [
        {
          "output_type": "stream",
          "name": "stdout",
          "text": [
            "0.2260869565217391\n",
            "-0.44590643274853825\n",
            "-0.15789473684210523\n"
          ]
        }
      ]
    },
    {
      "cell_type": "code",
      "source": [
        "cm4=mean_absolute_error(yt_true1,yp_pred1)\n",
        "cm5=r2_score(yt_true1,yp_pred1)\n",
        "cm6=explained_variance_score(yt_true1,yp_pred1)\n",
        "print(cm4)\n",
        "print(cm5)\n",
        "print(cm6)"
      ],
      "metadata": {
        "colab": {
          "base_uri": "https://localhost:8080/"
        },
        "id": "1ne7RXzn1d2v",
        "outputId": "88c97406-38cd-4afe-a36b-ba198b94ee96"
      },
      "execution_count": null,
      "outputs": [
        {
          "output_type": "stream",
          "name": "stdout",
          "text": [
            "0.19\n",
            "-0.19380252100840348\n",
            "0.04062500000000002\n"
          ]
        }
      ]
    },
    {
      "cell_type": "code",
      "source": [
        "from sklearn.neighbors import KNeighborsRegressor"
      ],
      "metadata": {
        "id": "407n54whbdvr"
      },
      "execution_count": null,
      "outputs": []
    },
    {
      "cell_type": "code",
      "source": [
        "training_images=np.reshape(x_train,(x_train.shape[0],-1))\n",
        "print(training_images)\n",
        "print(training_images.shape)"
      ],
      "metadata": {
        "colab": {
          "base_uri": "https://localhost:8080/"
        },
        "id": "GdJIxdpegpIA",
        "outputId": "7732dace-e767-4eba-f981-0f33935dcf05"
      },
      "execution_count": null,
      "outputs": [
        {
          "output_type": "stream",
          "name": "stdout",
          "text": [
            "[[0. 0. 0. ... 0. 0. 0.]\n",
            " [0. 0. 0. ... 0. 0. 0.]\n",
            " [0. 0. 0. ... 0. 0. 0.]\n",
            " ...\n",
            " [0. 0. 0. ... 0. 0. 0.]\n",
            " [0. 0. 0. ... 0. 0. 0.]\n",
            " [0. 0. 0. ... 0. 0. 0.]]\n",
            "(21, 76800)\n"
          ]
        }
      ]
    },
    {
      "cell_type": "code",
      "source": [
        "validation_images=np.reshape(x_val,(x_val.shape[0],-1))\n",
        "print(validation_images)\n",
        "print(validation_images.shape)"
      ],
      "metadata": {
        "colab": {
          "base_uri": "https://localhost:8080/"
        },
        "id": "dQqKCfFahwH5",
        "outputId": "450d5dfa-4f2a-4cff-83c8-81d9a18610ea"
      },
      "execution_count": null,
      "outputs": [
        {
          "output_type": "stream",
          "name": "stdout",
          "text": [
            "[[0. 0. 0. ... 0. 0. 0.]\n",
            " [0. 0. 0. ... 0. 0. 0.]\n",
            " [0. 0. 0. ... 0. 0. 0.]\n",
            " ...\n",
            " [0. 0. 0. ... 0. 0. 0.]\n",
            " [0. 0. 0. ... 0. 0. 0.]\n",
            " [0. 0. 0. ... 0. 0. 0.]]\n",
            "(20, 76800)\n"
          ]
        }
      ]
    },
    {
      "cell_type": "code",
      "source": [
        "testing_images=np.reshape(x_test,(x_test.shape[0],-1))\n",
        "print(testing_images)\n",
        "print(testing_images.shape)"
      ],
      "metadata": {
        "colab": {
          "base_uri": "https://localhost:8080/"
        },
        "id": "bP-1GrzQh_ol",
        "outputId": "56c6e42a-accf-4ce3-fd13-e39eb6fa6e1f"
      },
      "execution_count": null,
      "outputs": [
        {
          "output_type": "stream",
          "name": "stdout",
          "text": [
            "[[0. 0. 0. ... 0. 0. 0.]\n",
            " [0. 0. 0. ... 0. 0. 0.]\n",
            " [0. 0. 0. ... 0. 0. 0.]\n",
            " ...\n",
            " [0. 0. 0. ... 0. 0. 0.]\n",
            " [0. 0. 0. ... 0. 0. 0.]\n",
            " [0. 0. 0. ... 0. 0. 0.]]\n",
            "(23, 76800)\n"
          ]
        }
      ]
    },
    {
      "cell_type": "code",
      "source": [
        "training_labels=y_train\n",
        "print(training_labels)\n",
        "print(training_labels.shape)"
      ],
      "metadata": {
        "colab": {
          "base_uri": "https://localhost:8080/"
        },
        "id": "sDq11WwMiPti",
        "outputId": "ffb0733f-856b-4323-82c7-70eb757827a6"
      },
      "execution_count": null,
      "outputs": [
        {
          "output_type": "stream",
          "name": "stdout",
          "text": [
            "[[0. 0. 1. 0. 0.]\n",
            " [1. 0. 0. 0. 0.]\n",
            " [0. 0. 0. 0. 1.]\n",
            " [0. 1. 0. 0. 0.]\n",
            " [1. 0. 0. 0. 0.]\n",
            " [0. 0. 0. 1. 0.]\n",
            " [1. 0. 0. 0. 0.]\n",
            " [0. 0. 0. 0. 1.]\n",
            " [1. 0. 0. 0. 0.]\n",
            " [0. 0. 1. 0. 0.]\n",
            " [0. 0. 1. 0. 0.]\n",
            " [0. 0. 0. 0. 1.]\n",
            " [0. 0. 0. 0. 1.]\n",
            " [0. 0. 0. 0. 1.]\n",
            " [0. 0. 0. 1. 0.]\n",
            " [0. 1. 0. 0. 0.]\n",
            " [0. 0. 0. 1. 0.]\n",
            " [0. 1. 0. 0. 0.]\n",
            " [0. 0. 0. 0. 1.]\n",
            " [0. 0. 0. 1. 0.]\n",
            " [0. 0. 0. 0. 1.]]\n",
            "(21, 5)\n"
          ]
        }
      ]
    },
    {
      "cell_type": "code",
      "source": [
        "validation_labels=y_val\n",
        "print(validation_labels)\n",
        "print(validation_labels.shape)"
      ],
      "metadata": {
        "colab": {
          "base_uri": "https://localhost:8080/"
        },
        "id": "zGRnzqi5iR54",
        "outputId": "5eedb3c5-59bd-44b4-91c2-2d893ab2cf7c"
      },
      "execution_count": null,
      "outputs": [
        {
          "output_type": "stream",
          "name": "stdout",
          "text": [
            "[[1. 0. 0. 0. 0.]\n",
            " [0. 0. 1. 0. 0.]\n",
            " [0. 0. 0. 1. 0.]\n",
            " [0. 0. 1. 0. 0.]\n",
            " [0. 0. 0. 1. 0.]\n",
            " [0. 0. 0. 1. 0.]\n",
            " [1. 0. 0. 0. 0.]\n",
            " [0. 0. 0. 0. 1.]\n",
            " [0. 0. 1. 0. 0.]\n",
            " [0. 0. 0. 0. 1.]\n",
            " [1. 0. 0. 0. 0.]\n",
            " [0. 0. 0. 1. 0.]\n",
            " [0. 0. 0. 0. 1.]\n",
            " [0. 0. 1. 0. 0.]\n",
            " [0. 1. 0. 0. 0.]\n",
            " [0. 0. 0. 1. 0.]\n",
            " [0. 1. 0. 0. 0.]\n",
            " [0. 0. 0. 1. 0.]\n",
            " [0. 1. 0. 0. 0.]\n",
            " [0. 1. 0. 0. 0.]]\n",
            "(20, 5)\n"
          ]
        }
      ]
    },
    {
      "cell_type": "code",
      "source": [
        "testing_labels=y_test\n",
        "print(testing_labels)\n",
        "print(testing_labels.shape)"
      ],
      "metadata": {
        "colab": {
          "base_uri": "https://localhost:8080/"
        },
        "id": "OnM8Z_rriXNY",
        "outputId": "e24e390c-4942-41c5-a3b4-525bfc28de68"
      },
      "execution_count": null,
      "outputs": [
        {
          "output_type": "stream",
          "name": "stdout",
          "text": [
            "[[0. 0. 0. 0. 1.]\n",
            " [0. 1. 0. 0. 0.]\n",
            " [0. 0. 1. 0. 0.]\n",
            " [1. 0. 0. 0. 0.]\n",
            " [0. 0. 0. 1. 0.]\n",
            " [0. 1. 0. 0. 0.]\n",
            " [0. 0. 0. 0. 1.]\n",
            " [0. 0. 0. 1. 0.]\n",
            " [0. 0. 0. 1. 0.]\n",
            " [0. 0. 0. 1. 0.]\n",
            " [0. 0. 0. 0. 1.]\n",
            " [1. 0. 0. 0. 0.]\n",
            " [0. 0. 1. 0. 0.]\n",
            " [0. 0. 1. 0. 0.]\n",
            " [0. 0. 0. 1. 0.]\n",
            " [1. 0. 0. 0. 0.]\n",
            " [0. 1. 0. 0. 0.]\n",
            " [0. 0. 0. 1. 0.]\n",
            " [0. 0. 0. 1. 0.]\n",
            " [0. 0. 0. 1. 0.]\n",
            " [0. 1. 0. 0. 0.]\n",
            " [1. 0. 0. 0. 0.]\n",
            " [1. 0. 0. 0. 0.]]\n",
            "(23, 5)\n"
          ]
        }
      ]
    },
    {
      "cell_type": "code",
      "source": [
        "knnrg=KNeighborsRegressor(n_neighbors=5)\n",
        "knnrg.fit(training_images,training_labels)\n"
      ],
      "metadata": {
        "colab": {
          "base_uri": "https://localhost:8080/",
          "height": 75
        },
        "id": "V29xMfrni317",
        "outputId": "0b92f461-2599-4d11-efed-f0f5cc850f26"
      },
      "execution_count": null,
      "outputs": [
        {
          "output_type": "execute_result",
          "data": {
            "text/plain": [
              "KNeighborsRegressor()"
            ],
            "text/html": [
              "<style>#sk-container-id-1 {color: black;background-color: white;}#sk-container-id-1 pre{padding: 0;}#sk-container-id-1 div.sk-toggleable {background-color: white;}#sk-container-id-1 label.sk-toggleable__label {cursor: pointer;display: block;width: 100%;margin-bottom: 0;padding: 0.3em;box-sizing: border-box;text-align: center;}#sk-container-id-1 label.sk-toggleable__label-arrow:before {content: \"▸\";float: left;margin-right: 0.25em;color: #696969;}#sk-container-id-1 label.sk-toggleable__label-arrow:hover:before {color: black;}#sk-container-id-1 div.sk-estimator:hover label.sk-toggleable__label-arrow:before {color: black;}#sk-container-id-1 div.sk-toggleable__content {max-height: 0;max-width: 0;overflow: hidden;text-align: left;background-color: #f0f8ff;}#sk-container-id-1 div.sk-toggleable__content pre {margin: 0.2em;color: black;border-radius: 0.25em;background-color: #f0f8ff;}#sk-container-id-1 input.sk-toggleable__control:checked~div.sk-toggleable__content {max-height: 200px;max-width: 100%;overflow: auto;}#sk-container-id-1 input.sk-toggleable__control:checked~label.sk-toggleable__label-arrow:before {content: \"▾\";}#sk-container-id-1 div.sk-estimator input.sk-toggleable__control:checked~label.sk-toggleable__label {background-color: #d4ebff;}#sk-container-id-1 div.sk-label input.sk-toggleable__control:checked~label.sk-toggleable__label {background-color: #d4ebff;}#sk-container-id-1 input.sk-hidden--visually {border: 0;clip: rect(1px 1px 1px 1px);clip: rect(1px, 1px, 1px, 1px);height: 1px;margin: -1px;overflow: hidden;padding: 0;position: absolute;width: 1px;}#sk-container-id-1 div.sk-estimator {font-family: monospace;background-color: #f0f8ff;border: 1px dotted black;border-radius: 0.25em;box-sizing: border-box;margin-bottom: 0.5em;}#sk-container-id-1 div.sk-estimator:hover {background-color: #d4ebff;}#sk-container-id-1 div.sk-parallel-item::after {content: \"\";width: 100%;border-bottom: 1px solid gray;flex-grow: 1;}#sk-container-id-1 div.sk-label:hover label.sk-toggleable__label {background-color: #d4ebff;}#sk-container-id-1 div.sk-serial::before {content: \"\";position: absolute;border-left: 1px solid gray;box-sizing: border-box;top: 0;bottom: 0;left: 50%;z-index: 0;}#sk-container-id-1 div.sk-serial {display: flex;flex-direction: column;align-items: center;background-color: white;padding-right: 0.2em;padding-left: 0.2em;position: relative;}#sk-container-id-1 div.sk-item {position: relative;z-index: 1;}#sk-container-id-1 div.sk-parallel {display: flex;align-items: stretch;justify-content: center;background-color: white;position: relative;}#sk-container-id-1 div.sk-item::before, #sk-container-id-1 div.sk-parallel-item::before {content: \"\";position: absolute;border-left: 1px solid gray;box-sizing: border-box;top: 0;bottom: 0;left: 50%;z-index: -1;}#sk-container-id-1 div.sk-parallel-item {display: flex;flex-direction: column;z-index: 1;position: relative;background-color: white;}#sk-container-id-1 div.sk-parallel-item:first-child::after {align-self: flex-end;width: 50%;}#sk-container-id-1 div.sk-parallel-item:last-child::after {align-self: flex-start;width: 50%;}#sk-container-id-1 div.sk-parallel-item:only-child::after {width: 0;}#sk-container-id-1 div.sk-dashed-wrapped {border: 1px dashed gray;margin: 0 0.4em 0.5em 0.4em;box-sizing: border-box;padding-bottom: 0.4em;background-color: white;}#sk-container-id-1 div.sk-label label {font-family: monospace;font-weight: bold;display: inline-block;line-height: 1.2em;}#sk-container-id-1 div.sk-label-container {text-align: center;}#sk-container-id-1 div.sk-container {/* jupyter's `normalize.less` sets `[hidden] { display: none; }` but bootstrap.min.css set `[hidden] { display: none !important; }` so we also need the `!important` here to be able to override the default hidden behavior on the sphinx rendered scikit-learn.org. See: https://github.com/scikit-learn/scikit-learn/issues/21755 */display: inline-block !important;position: relative;}#sk-container-id-1 div.sk-text-repr-fallback {display: none;}</style><div id=\"sk-container-id-1\" class=\"sk-top-container\"><div class=\"sk-text-repr-fallback\"><pre>KNeighborsRegressor()</pre><b>In a Jupyter environment, please rerun this cell to show the HTML representation or trust the notebook. <br />On GitHub, the HTML representation is unable to render, please try loading this page with nbviewer.org.</b></div><div class=\"sk-container\" hidden><div class=\"sk-item\"><div class=\"sk-estimator sk-toggleable\"><input class=\"sk-toggleable__control sk-hidden--visually\" id=\"sk-estimator-id-1\" type=\"checkbox\" checked><label for=\"sk-estimator-id-1\" class=\"sk-toggleable__label sk-toggleable__label-arrow\">KNeighborsRegressor</label><div class=\"sk-toggleable__content\"><pre>KNeighborsRegressor()</pre></div></div></div></div></div>"
            ]
          },
          "metadata": {},
          "execution_count": 38
        }
      ]
    },
    {
      "cell_type": "code",
      "source": [
        "y_true2=y_test\n",
        "print(y_true2)\n",
        "print(np.shape(y_true2))"
      ],
      "metadata": {
        "colab": {
          "base_uri": "https://localhost:8080/"
        },
        "id": "YV7i7AjFjGTZ",
        "outputId": "f833ec3a-840a-41b1-90cd-87b5ec67a976"
      },
      "execution_count": null,
      "outputs": [
        {
          "output_type": "stream",
          "name": "stdout",
          "text": [
            "[[0. 0. 0. 0. 1.]\n",
            " [0. 1. 0. 0. 0.]\n",
            " [0. 0. 1. 0. 0.]\n",
            " [1. 0. 0. 0. 0.]\n",
            " [0. 0. 0. 1. 0.]\n",
            " [0. 1. 0. 0. 0.]\n",
            " [0. 0. 0. 0. 1.]\n",
            " [0. 0. 0. 1. 0.]\n",
            " [0. 0. 0. 1. 0.]\n",
            " [0. 0. 0. 1. 0.]\n",
            " [0. 0. 0. 0. 1.]\n",
            " [1. 0. 0. 0. 0.]\n",
            " [0. 0. 1. 0. 0.]\n",
            " [0. 0. 1. 0. 0.]\n",
            " [0. 0. 0. 1. 0.]\n",
            " [1. 0. 0. 0. 0.]\n",
            " [0. 1. 0. 0. 0.]\n",
            " [0. 0. 0. 1. 0.]\n",
            " [0. 0. 0. 1. 0.]\n",
            " [0. 0. 0. 1. 0.]\n",
            " [0. 1. 0. 0. 0.]\n",
            " [1. 0. 0. 0. 0.]\n",
            " [1. 0. 0. 0. 0.]]\n",
            "(23, 5)\n"
          ]
        }
      ]
    },
    {
      "cell_type": "code",
      "source": [
        "y_pred2=model.predict(x_test)\n",
        "print(y_pred2)\n",
        "print(np.shape(y_pred2))\n"
      ],
      "metadata": {
        "colab": {
          "base_uri": "https://localhost:8080/"
        },
        "id": "pF-u-ACQjus6",
        "outputId": "d3546aad-ea89-41fa-b769-1b29debda9ed"
      },
      "execution_count": null,
      "outputs": [
        {
          "output_type": "stream",
          "name": "stdout",
          "text": [
            "1/1 [==============================] - 0s 136ms/step\n",
            "[[ 0.08797663  0.8314718  -0.04568015  0.00304323  0.02624518]\n",
            " [ 0.1389129   0.7136681  -0.07212432 -0.04192946  0.04799462]\n",
            " [ 0.25747156  0.01818045  0.28535107  0.2603502   0.24208856]\n",
            " [ 0.06152423  0.7658386  -0.02081118  0.02917504  0.01472724]\n",
            " [ 0.02237388 -0.0925495   0.35473844  0.38583076  0.32940128]\n",
            " [ 0.1549787   0.6079173   0.05517184  0.0779165   0.07319792]\n",
            " [ 0.26949435  0.14337951  0.20622183  0.18210652  0.19494319]\n",
            " [ 0.2344856   0.15470627  0.23265973  0.21942045  0.21407479]\n",
            " [ 0.2972498   0.06006638  0.23549804  0.20603311  0.27668422]\n",
            " [ 0.39428735  0.17702405  0.08710026  0.03174811  0.16298486]\n",
            " [ 0.24182779  0.23344892  0.19200157  0.17984657  0.18913569]\n",
            " [ 0.06662377  0.5255836   0.07947458  0.12069792  0.10773192]\n",
            " [ 0.08797663  0.8314718  -0.04568015  0.00304323  0.02624518]\n",
            " [ 0.08847507  0.9721292  -0.04534857  0.01266077  0.02636368]\n",
            " [ 0.29473177  0.00603929  0.2847644   0.24886829  0.22648737]\n",
            " [ 0.24493769  0.42939472  0.12140698  0.11628883  0.13209794]\n",
            " [ 0.20997752  0.46177793 -0.0323232  -0.03337998  0.07306931]\n",
            " [ 0.2994682   0.06207735  0.23420437  0.20440955  0.2776548 ]\n",
            " [ 0.27590743  0.17914228  0.17843603  0.15440439  0.18900153]\n",
            " [ 0.31147757  0.07647973  0.22804622  0.19752161  0.29316342]\n",
            " [ 0.11610713  0.6788467   0.02998727  0.06532537  0.05949336]\n",
            " [ 0.10566359  0.48920557  0.09852371  0.12953812  0.12379108]\n",
            " [ 0.07635411  0.6263825  -0.03258346  0.00572761  0.03098746]]\n",
            "(23, 5)\n"
          ]
        }
      ]
    },
    {
      "cell_type": "code",
      "source": [
        "yt_true2=y_true2.astype(int)\n",
        "print(yt_true2)\n",
        "print(np.shape(yt_true2))"
      ],
      "metadata": {
        "colab": {
          "base_uri": "https://localhost:8080/"
        },
        "id": "r4lwdjEzkiPE",
        "outputId": "bafc4df1-079c-48b1-bec0-a7c45f19f1f6"
      },
      "execution_count": null,
      "outputs": [
        {
          "output_type": "stream",
          "name": "stdout",
          "text": [
            "[[0 0 0 0 1]\n",
            " [0 1 0 0 0]\n",
            " [0 0 1 0 0]\n",
            " [1 0 0 0 0]\n",
            " [0 0 0 1 0]\n",
            " [0 1 0 0 0]\n",
            " [0 0 0 0 1]\n",
            " [0 0 0 1 0]\n",
            " [0 0 0 1 0]\n",
            " [0 0 0 1 0]\n",
            " [0 0 0 0 1]\n",
            " [1 0 0 0 0]\n",
            " [0 0 1 0 0]\n",
            " [0 0 1 0 0]\n",
            " [0 0 0 1 0]\n",
            " [1 0 0 0 0]\n",
            " [0 1 0 0 0]\n",
            " [0 0 0 1 0]\n",
            " [0 0 0 1 0]\n",
            " [0 0 0 1 0]\n",
            " [0 1 0 0 0]\n",
            " [1 0 0 0 0]\n",
            " [1 0 0 0 0]]\n",
            "(23, 5)\n"
          ]
        }
      ]
    },
    {
      "cell_type": "code",
      "source": [
        "yp_pred2=np.round(y_pred2)\n",
        "print(yp_pred2)\n",
        "print(np.shape(y_pred2))"
      ],
      "metadata": {
        "colab": {
          "base_uri": "https://localhost:8080/"
        },
        "id": "RdhKJfIokzu_",
        "outputId": "d757e763-e4aa-48fb-bb55-c68ba0488124"
      },
      "execution_count": null,
      "outputs": [
        {
          "output_type": "stream",
          "name": "stdout",
          "text": [
            "[[ 0.  1. -0.  0.  0.]\n",
            " [ 0.  1. -0. -0.  0.]\n",
            " [ 0.  0.  0.  0.  0.]\n",
            " [ 0.  1. -0.  0.  0.]\n",
            " [ 0. -0.  0.  0.  0.]\n",
            " [ 0.  1.  0.  0.  0.]\n",
            " [ 0.  0.  0.  0.  0.]\n",
            " [ 0.  0.  0.  0.  0.]\n",
            " [ 0.  0.  0.  0.  0.]\n",
            " [ 0.  0.  0.  0.  0.]\n",
            " [ 0.  0.  0.  0.  0.]\n",
            " [ 0.  1.  0.  0.  0.]\n",
            " [ 0.  1. -0.  0.  0.]\n",
            " [ 0.  1. -0.  0.  0.]\n",
            " [ 0.  0.  0.  0.  0.]\n",
            " [ 0.  0.  0.  0.  0.]\n",
            " [ 0.  0. -0. -0.  0.]\n",
            " [ 0.  0.  0.  0.  0.]\n",
            " [ 0.  0.  0.  0.  0.]\n",
            " [ 0.  0.  0.  0.  0.]\n",
            " [ 0.  1.  0.  0.  0.]\n",
            " [ 0.  0.  0.  0.  0.]\n",
            " [ 0.  1. -0.  0.  0.]]\n",
            "(23, 5)\n"
          ]
        }
      ]
    },
    {
      "cell_type": "code",
      "source": [
        "y_true3=y_val\n",
        "print(y_true3)\n",
        "print(np.shape(y_true3))"
      ],
      "metadata": {
        "colab": {
          "base_uri": "https://localhost:8080/"
        },
        "id": "F8PaBwdt3LEv",
        "outputId": "dc1539e9-9f0a-4f1d-f209-e29b158b9685"
      },
      "execution_count": null,
      "outputs": [
        {
          "output_type": "stream",
          "name": "stdout",
          "text": [
            "[[1. 0. 0. 0. 0.]\n",
            " [0. 0. 1. 0. 0.]\n",
            " [0. 0. 0. 1. 0.]\n",
            " [0. 0. 1. 0. 0.]\n",
            " [0. 0. 0. 1. 0.]\n",
            " [0. 0. 0. 1. 0.]\n",
            " [1. 0. 0. 0. 0.]\n",
            " [0. 0. 0. 0. 1.]\n",
            " [0. 0. 1. 0. 0.]\n",
            " [0. 0. 0. 0. 1.]\n",
            " [1. 0. 0. 0. 0.]\n",
            " [0. 0. 0. 1. 0.]\n",
            " [0. 0. 0. 0. 1.]\n",
            " [0. 0. 1. 0. 0.]\n",
            " [0. 1. 0. 0. 0.]\n",
            " [0. 0. 0. 1. 0.]\n",
            " [0. 1. 0. 0. 0.]\n",
            " [0. 0. 0. 1. 0.]\n",
            " [0. 1. 0. 0. 0.]\n",
            " [0. 1. 0. 0. 0.]]\n",
            "(20, 5)\n"
          ]
        }
      ]
    },
    {
      "cell_type": "code",
      "source": [
        "y_pred3=model.predict(x_val)\n",
        "print(y_pred3)\n",
        "print(np.shape(y_pred3))\n"
      ],
      "metadata": {
        "colab": {
          "base_uri": "https://localhost:8080/"
        },
        "id": "7-hNLwpK3v0U",
        "outputId": "7c7b02c0-1eb1-4625-eae4-3af30c7ce6a1"
      },
      "execution_count": null,
      "outputs": [
        {
          "output_type": "stream",
          "name": "stdout",
          "text": [
            "1/1 [==============================] - 0s 117ms/step\n",
            "[[ 2.73565978e-01  3.40265594e-02  2.57248431e-01  2.31243402e-01\n",
            "   2.68268377e-01]\n",
            " [ 2.67417103e-01 -1.42312674e-02  2.99517751e-01  2.68705130e-01\n",
            "   2.23820657e-01]\n",
            " [ 2.66929090e-01 -5.07453345e-02  3.52679342e-01  3.20031494e-01\n",
            "   2.22438782e-01]\n",
            " [ 2.73172408e-01 -5.96404858e-02  3.65319073e-01  3.30239862e-01\n",
            "   2.16154546e-01]\n",
            " [ 2.85615712e-01  4.62778471e-02  2.48310164e-01  2.20588714e-01\n",
            "   2.73643792e-01]\n",
            " [ 3.05997521e-01  8.07866976e-02  2.05607891e-01  1.74642652e-01\n",
            "   2.70717472e-01]\n",
            " [ 3.36887598e-01  8.20861086e-02  2.25073829e-01  1.87861636e-01\n",
            "   2.80556977e-01]\n",
            " [ 2.51252383e-01  4.27295901e-02  2.18909770e-01  1.96455941e-01\n",
            "   2.44327128e-01]\n",
            " [ 3.33341897e-01  6.08668439e-02  2.51786649e-01  2.13895887e-01\n",
            "   2.75467247e-01]\n",
            " [ 2.57471561e-01  1.81804486e-02  2.85351068e-01  2.60350198e-01\n",
            "   2.42088556e-01]\n",
            " [ 2.76043057e-01  3.65158282e-02  2.55602837e-01  2.29265034e-01\n",
            "   2.69624293e-01]\n",
            " [ 2.91790038e-01  5.33125661e-02  2.42366254e-01  2.13768482e-01\n",
            "   2.75993168e-01]\n",
            " [ 2.14798108e-01 -8.67303014e-02  4.02611345e-01  3.83541167e-01\n",
            "   2.60937840e-01]\n",
            " [ 3.05997521e-01  8.07866976e-02  2.05607891e-01  1.74642652e-01\n",
            "   2.70717472e-01]\n",
            " [ 2.41780486e-02  1.13494205e+00 -1.19092669e-02  7.04305992e-02\n",
            "  -1.10008754e-03]\n",
            " [ 2.99808472e-01  6.26591370e-02  2.31376514e-01  2.01222271e-01\n",
            "   2.74045199e-01]\n",
            " [ 2.77673155e-01  3.14429164e-01  1.23103164e-01  1.04264610e-01\n",
            "   1.53638169e-01]\n",
            " [ 3.04739505e-01  7.57888630e-02  2.12209806e-01  1.81258604e-01\n",
            "   2.70403385e-01]\n",
            " [ 4.20475274e-01  2.22595051e-01  1.30226389e-01  7.17246160e-02\n",
            "   1.57164246e-01]\n",
            " [ 2.56279439e-01  4.00491893e-01  6.43399730e-02  5.27255051e-02\n",
            "   1.16501637e-01]]\n",
            "(20, 5)\n"
          ]
        }
      ]
    },
    {
      "cell_type": "code",
      "source": [
        "yt_true3=y_true3.astype(int)\n",
        "print(yt_true3)\n",
        "print(np.shape(yt_true3))"
      ],
      "metadata": {
        "colab": {
          "base_uri": "https://localhost:8080/"
        },
        "id": "B9vOOzIp354-",
        "outputId": "4051a630-fcd5-43d9-b4c5-1591a6a64ba0"
      },
      "execution_count": null,
      "outputs": [
        {
          "output_type": "stream",
          "name": "stdout",
          "text": [
            "[[1 0 0 0 0]\n",
            " [0 0 1 0 0]\n",
            " [0 0 0 1 0]\n",
            " [0 0 1 0 0]\n",
            " [0 0 0 1 0]\n",
            " [0 0 0 1 0]\n",
            " [1 0 0 0 0]\n",
            " [0 0 0 0 1]\n",
            " [0 0 1 0 0]\n",
            " [0 0 0 0 1]\n",
            " [1 0 0 0 0]\n",
            " [0 0 0 1 0]\n",
            " [0 0 0 0 1]\n",
            " [0 0 1 0 0]\n",
            " [0 1 0 0 0]\n",
            " [0 0 0 1 0]\n",
            " [0 1 0 0 0]\n",
            " [0 0 0 1 0]\n",
            " [0 1 0 0 0]\n",
            " [0 1 0 0 0]]\n",
            "(20, 5)\n"
          ]
        }
      ]
    },
    {
      "cell_type": "code",
      "source": [
        "yp_pred3=np.round(y_pred3)\n",
        "print(yp_pred3)\n",
        "print(np.shape(y_pred3))"
      ],
      "metadata": {
        "colab": {
          "base_uri": "https://localhost:8080/"
        },
        "id": "UdfBooq94C72",
        "outputId": "698bbf4c-77ad-44de-db7c-472d060aa38e"
      },
      "execution_count": null,
      "outputs": [
        {
          "output_type": "stream",
          "name": "stdout",
          "text": [
            "[[ 0.  0.  0.  0.  0.]\n",
            " [ 0. -0.  0.  0.  0.]\n",
            " [ 0. -0.  0.  0.  0.]\n",
            " [ 0. -0.  0.  0.  0.]\n",
            " [ 0.  0.  0.  0.  0.]\n",
            " [ 0.  0.  0.  0.  0.]\n",
            " [ 0.  0.  0.  0.  0.]\n",
            " [ 0.  0.  0.  0.  0.]\n",
            " [ 0.  0.  0.  0.  0.]\n",
            " [ 0.  0.  0.  0.  0.]\n",
            " [ 0.  0.  0.  0.  0.]\n",
            " [ 0.  0.  0.  0.  0.]\n",
            " [ 0. -0.  0.  0.  0.]\n",
            " [ 0.  0.  0.  0.  0.]\n",
            " [ 0.  1. -0.  0. -0.]\n",
            " [ 0.  0.  0.  0.  0.]\n",
            " [ 0.  0.  0.  0.  0.]\n",
            " [ 0.  0.  0.  0.  0.]\n",
            " [ 0.  0.  0.  0.  0.]\n",
            " [ 0.  0.  0.  0.  0.]]\n",
            "(20, 5)\n"
          ]
        }
      ]
    },
    {
      "cell_type": "code",
      "source": [
        "cm7=mean_absolute_error(yt_true2,yp_pred2)\n",
        "cm8=r2_score(yt_true2,yp_pred2)\n",
        "cm9=explained_variance_score(yt_true2,yp_pred2)\n",
        "print(cm7)\n",
        "print(cm8)\n",
        "print(cm9)"
      ],
      "metadata": {
        "colab": {
          "base_uri": "https://localhost:8080/"
        },
        "id": "1e_MuPdD4KjU",
        "outputId": "a60d9ea9-2472-4463-b154-0d9bde9f1256"
      },
      "execution_count": null,
      "outputs": [
        {
          "output_type": "stream",
          "name": "stdout",
          "text": [
            "0.2260869565217391\n",
            "-0.44590643274853825\n",
            "-0.15789473684210523\n"
          ]
        }
      ]
    },
    {
      "cell_type": "code",
      "source": [
        "cm10=mean_absolute_error(yt_true3,yp_pred3)\n",
        "cm11=r2_score(yt_true3,yp_pred3)\n",
        "cm12=explained_variance_score(yt_true3,yp_pred3)\n",
        "print(cm10)\n",
        "print(cm11)\n",
        "print(cm12)"
      ],
      "metadata": {
        "colab": {
          "base_uri": "https://localhost:8080/"
        },
        "id": "avQSYRW24aRx",
        "outputId": "a54ef36a-148d-4827-e3c5-79dff7cc5c3f"
      },
      "execution_count": null,
      "outputs": [
        {
          "output_type": "stream",
          "name": "stdout",
          "text": [
            "0.19\n",
            "-0.19380252100840348\n",
            "0.04062500000000002\n"
          ]
        }
      ]
    },
    {
      "cell_type": "code",
      "source": [
        "from sklearn.neural_network import MLPRegressor"
      ],
      "metadata": {
        "id": "lZ5mLrn9xrdP"
      },
      "execution_count": null,
      "outputs": []
    },
    {
      "cell_type": "code",
      "source": [
        "mlprg=MLPRegressor(hidden_layer_sizes=5,activation='relu',solver='adam',alpha=0.0003,learning_rate='constant',learning_rate_init=0.0003,random_state=1,max_iter=10)\n",
        "mlprg.fit(training_images,training_labels)"
      ],
      "metadata": {
        "colab": {
          "base_uri": "https://localhost:8080/",
          "height": 147
        },
        "id": "cqjkOMXeyHKi",
        "outputId": "d01a506b-6274-43d9-e5f1-bd3d065527a8"
      },
      "execution_count": null,
      "outputs": [
        {
          "output_type": "stream",
          "name": "stderr",
          "text": [
            "/usr/local/lib/python3.10/dist-packages/sklearn/neural_network/_multilayer_perceptron.py:686: ConvergenceWarning: Stochastic Optimizer: Maximum iterations (10) reached and the optimization hasn't converged yet.\n",
            "  warnings.warn(\n"
          ]
        },
        {
          "output_type": "execute_result",
          "data": {
            "text/plain": [
              "MLPRegressor(alpha=0.0003, hidden_layer_sizes=5, learning_rate_init=0.0003,\n",
              "             max_iter=10, random_state=1)"
            ],
            "text/html": [
              "<style>#sk-container-id-2 {color: black;background-color: white;}#sk-container-id-2 pre{padding: 0;}#sk-container-id-2 div.sk-toggleable {background-color: white;}#sk-container-id-2 label.sk-toggleable__label {cursor: pointer;display: block;width: 100%;margin-bottom: 0;padding: 0.3em;box-sizing: border-box;text-align: center;}#sk-container-id-2 label.sk-toggleable__label-arrow:before {content: \"▸\";float: left;margin-right: 0.25em;color: #696969;}#sk-container-id-2 label.sk-toggleable__label-arrow:hover:before {color: black;}#sk-container-id-2 div.sk-estimator:hover label.sk-toggleable__label-arrow:before {color: black;}#sk-container-id-2 div.sk-toggleable__content {max-height: 0;max-width: 0;overflow: hidden;text-align: left;background-color: #f0f8ff;}#sk-container-id-2 div.sk-toggleable__content pre {margin: 0.2em;color: black;border-radius: 0.25em;background-color: #f0f8ff;}#sk-container-id-2 input.sk-toggleable__control:checked~div.sk-toggleable__content {max-height: 200px;max-width: 100%;overflow: auto;}#sk-container-id-2 input.sk-toggleable__control:checked~label.sk-toggleable__label-arrow:before {content: \"▾\";}#sk-container-id-2 div.sk-estimator input.sk-toggleable__control:checked~label.sk-toggleable__label {background-color: #d4ebff;}#sk-container-id-2 div.sk-label input.sk-toggleable__control:checked~label.sk-toggleable__label {background-color: #d4ebff;}#sk-container-id-2 input.sk-hidden--visually {border: 0;clip: rect(1px 1px 1px 1px);clip: rect(1px, 1px, 1px, 1px);height: 1px;margin: -1px;overflow: hidden;padding: 0;position: absolute;width: 1px;}#sk-container-id-2 div.sk-estimator {font-family: monospace;background-color: #f0f8ff;border: 1px dotted black;border-radius: 0.25em;box-sizing: border-box;margin-bottom: 0.5em;}#sk-container-id-2 div.sk-estimator:hover {background-color: #d4ebff;}#sk-container-id-2 div.sk-parallel-item::after {content: \"\";width: 100%;border-bottom: 1px solid gray;flex-grow: 1;}#sk-container-id-2 div.sk-label:hover label.sk-toggleable__label {background-color: #d4ebff;}#sk-container-id-2 div.sk-serial::before {content: \"\";position: absolute;border-left: 1px solid gray;box-sizing: border-box;top: 0;bottom: 0;left: 50%;z-index: 0;}#sk-container-id-2 div.sk-serial {display: flex;flex-direction: column;align-items: center;background-color: white;padding-right: 0.2em;padding-left: 0.2em;position: relative;}#sk-container-id-2 div.sk-item {position: relative;z-index: 1;}#sk-container-id-2 div.sk-parallel {display: flex;align-items: stretch;justify-content: center;background-color: white;position: relative;}#sk-container-id-2 div.sk-item::before, #sk-container-id-2 div.sk-parallel-item::before {content: \"\";position: absolute;border-left: 1px solid gray;box-sizing: border-box;top: 0;bottom: 0;left: 50%;z-index: -1;}#sk-container-id-2 div.sk-parallel-item {display: flex;flex-direction: column;z-index: 1;position: relative;background-color: white;}#sk-container-id-2 div.sk-parallel-item:first-child::after {align-self: flex-end;width: 50%;}#sk-container-id-2 div.sk-parallel-item:last-child::after {align-self: flex-start;width: 50%;}#sk-container-id-2 div.sk-parallel-item:only-child::after {width: 0;}#sk-container-id-2 div.sk-dashed-wrapped {border: 1px dashed gray;margin: 0 0.4em 0.5em 0.4em;box-sizing: border-box;padding-bottom: 0.4em;background-color: white;}#sk-container-id-2 div.sk-label label {font-family: monospace;font-weight: bold;display: inline-block;line-height: 1.2em;}#sk-container-id-2 div.sk-label-container {text-align: center;}#sk-container-id-2 div.sk-container {/* jupyter's `normalize.less` sets `[hidden] { display: none; }` but bootstrap.min.css set `[hidden] { display: none !important; }` so we also need the `!important` here to be able to override the default hidden behavior on the sphinx rendered scikit-learn.org. See: https://github.com/scikit-learn/scikit-learn/issues/21755 */display: inline-block !important;position: relative;}#sk-container-id-2 div.sk-text-repr-fallback {display: none;}</style><div id=\"sk-container-id-2\" class=\"sk-top-container\"><div class=\"sk-text-repr-fallback\"><pre>MLPRegressor(alpha=0.0003, hidden_layer_sizes=5, learning_rate_init=0.0003,\n",
              "             max_iter=10, random_state=1)</pre><b>In a Jupyter environment, please rerun this cell to show the HTML representation or trust the notebook. <br />On GitHub, the HTML representation is unable to render, please try loading this page with nbviewer.org.</b></div><div class=\"sk-container\" hidden><div class=\"sk-item\"><div class=\"sk-estimator sk-toggleable\"><input class=\"sk-toggleable__control sk-hidden--visually\" id=\"sk-estimator-id-2\" type=\"checkbox\" checked><label for=\"sk-estimator-id-2\" class=\"sk-toggleable__label sk-toggleable__label-arrow\">MLPRegressor</label><div class=\"sk-toggleable__content\"><pre>MLPRegressor(alpha=0.0003, hidden_layer_sizes=5, learning_rate_init=0.0003,\n",
              "             max_iter=10, random_state=1)</pre></div></div></div></div></div>"
            ]
          },
          "metadata": {},
          "execution_count": 51
        }
      ]
    },
    {
      "cell_type": "code",
      "source": [
        "y_true4=y_test\n",
        "print(y_true4)\n",
        "print(np.shape(y_true4))"
      ],
      "metadata": {
        "colab": {
          "base_uri": "https://localhost:8080/"
        },
        "id": "a7mcD9GqT8Az",
        "outputId": "ea57306b-b530-43df-b4f7-ca32f4b61ae5"
      },
      "execution_count": null,
      "outputs": [
        {
          "output_type": "stream",
          "name": "stdout",
          "text": [
            "[[0. 0. 0. 0. 1.]\n",
            " [0. 1. 0. 0. 0.]\n",
            " [0. 0. 1. 0. 0.]\n",
            " [1. 0. 0. 0. 0.]\n",
            " [0. 0. 0. 1. 0.]\n",
            " [0. 1. 0. 0. 0.]\n",
            " [0. 0. 0. 0. 1.]\n",
            " [0. 0. 0. 1. 0.]\n",
            " [0. 0. 0. 1. 0.]\n",
            " [0. 0. 0. 1. 0.]\n",
            " [0. 0. 0. 0. 1.]\n",
            " [1. 0. 0. 0. 0.]\n",
            " [0. 0. 1. 0. 0.]\n",
            " [0. 0. 1. 0. 0.]\n",
            " [0. 0. 0. 1. 0.]\n",
            " [1. 0. 0. 0. 0.]\n",
            " [0. 1. 0. 0. 0.]\n",
            " [0. 0. 0. 1. 0.]\n",
            " [0. 0. 0. 1. 0.]\n",
            " [0. 0. 0. 1. 0.]\n",
            " [0. 1. 0. 0. 0.]\n",
            " [1. 0. 0. 0. 0.]\n",
            " [1. 0. 0. 0. 0.]]\n",
            "(23, 5)\n"
          ]
        }
      ]
    },
    {
      "cell_type": "code",
      "source": [
        "y_pred4=model.predict(x_test)\n",
        "print(y_pred4)\n",
        "print(np.shape(y_pred4))"
      ],
      "metadata": {
        "colab": {
          "base_uri": "https://localhost:8080/"
        },
        "id": "RauIz-jfUAeq",
        "outputId": "99c376ad-3aae-4283-8d3c-536b66fa08d2"
      },
      "execution_count": null,
      "outputs": [
        {
          "output_type": "stream",
          "name": "stdout",
          "text": [
            "1/1 [==============================] - 0s 228ms/step\n",
            "[[ 0.08797663  0.8314718  -0.04568015  0.00304323  0.02624518]\n",
            " [ 0.1389129   0.7136681  -0.07212432 -0.04192946  0.04799462]\n",
            " [ 0.25747156  0.01818045  0.28535107  0.2603502   0.24208856]\n",
            " [ 0.06152423  0.7658386  -0.02081118  0.02917504  0.01472724]\n",
            " [ 0.02237388 -0.0925495   0.35473844  0.38583076  0.32940128]\n",
            " [ 0.1549787   0.6079173   0.05517184  0.0779165   0.07319792]\n",
            " [ 0.26949435  0.14337951  0.20622183  0.18210652  0.19494319]\n",
            " [ 0.2344856   0.15470627  0.23265973  0.21942045  0.21407479]\n",
            " [ 0.2972498   0.06006638  0.23549804  0.20603311  0.27668422]\n",
            " [ 0.39428735  0.17702405  0.08710026  0.03174811  0.16298486]\n",
            " [ 0.24182779  0.23344892  0.19200157  0.17984657  0.18913569]\n",
            " [ 0.06662377  0.5255836   0.07947458  0.12069792  0.10773192]\n",
            " [ 0.08797663  0.8314718  -0.04568015  0.00304323  0.02624518]\n",
            " [ 0.08847507  0.9721292  -0.04534857  0.01266077  0.02636368]\n",
            " [ 0.29473177  0.00603929  0.2847644   0.24886829  0.22648737]\n",
            " [ 0.24493769  0.42939472  0.12140698  0.11628883  0.13209794]\n",
            " [ 0.20997752  0.46177793 -0.0323232  -0.03337998  0.07306931]\n",
            " [ 0.2994682   0.06207735  0.23420437  0.20440955  0.2776548 ]\n",
            " [ 0.27590743  0.17914228  0.17843603  0.15440439  0.18900153]\n",
            " [ 0.31147757  0.07647973  0.22804622  0.19752161  0.29316342]\n",
            " [ 0.11610713  0.6788467   0.02998727  0.06532537  0.05949336]\n",
            " [ 0.10566359  0.48920557  0.09852371  0.12953812  0.12379108]\n",
            " [ 0.07635411  0.6263825  -0.03258346  0.00572761  0.03098746]]\n",
            "(23, 5)\n"
          ]
        }
      ]
    },
    {
      "cell_type": "code",
      "source": [
        "yt_true4=y_true4.astype(int)\n",
        "print(yt_true4)\n",
        "print(np.shape(yt_true4))"
      ],
      "metadata": {
        "colab": {
          "base_uri": "https://localhost:8080/"
        },
        "id": "0hEwLwQDULtd",
        "outputId": "2e7d2bba-e97c-4fab-d0c0-6217a802d4a6"
      },
      "execution_count": null,
      "outputs": [
        {
          "output_type": "stream",
          "name": "stdout",
          "text": [
            "[[0 0 0 0 1]\n",
            " [0 1 0 0 0]\n",
            " [0 0 1 0 0]\n",
            " [1 0 0 0 0]\n",
            " [0 0 0 1 0]\n",
            " [0 1 0 0 0]\n",
            " [0 0 0 0 1]\n",
            " [0 0 0 1 0]\n",
            " [0 0 0 1 0]\n",
            " [0 0 0 1 0]\n",
            " [0 0 0 0 1]\n",
            " [1 0 0 0 0]\n",
            " [0 0 1 0 0]\n",
            " [0 0 1 0 0]\n",
            " [0 0 0 1 0]\n",
            " [1 0 0 0 0]\n",
            " [0 1 0 0 0]\n",
            " [0 0 0 1 0]\n",
            " [0 0 0 1 0]\n",
            " [0 0 0 1 0]\n",
            " [0 1 0 0 0]\n",
            " [1 0 0 0 0]\n",
            " [1 0 0 0 0]]\n",
            "(23, 5)\n"
          ]
        }
      ]
    },
    {
      "cell_type": "code",
      "source": [
        "yp_pred4=np.round(y_pred4)\n",
        "print(yp_pred4)\n",
        "print(np.shape(y_pred4))"
      ],
      "metadata": {
        "colab": {
          "base_uri": "https://localhost:8080/"
        },
        "id": "_AKK4tYL7-LV",
        "outputId": "ed0ab407-2ceb-41b0-9012-8e9493b91e73"
      },
      "execution_count": null,
      "outputs": [
        {
          "output_type": "stream",
          "name": "stdout",
          "text": [
            "[[ 0.  1. -0.  0.  0.]\n",
            " [ 0.  1. -0. -0.  0.]\n",
            " [ 0.  0.  0.  0.  0.]\n",
            " [ 0.  1. -0.  0.  0.]\n",
            " [ 0. -0.  0.  0.  0.]\n",
            " [ 0.  1.  0.  0.  0.]\n",
            " [ 0.  0.  0.  0.  0.]\n",
            " [ 0.  0.  0.  0.  0.]\n",
            " [ 0.  0.  0.  0.  0.]\n",
            " [ 0.  0.  0.  0.  0.]\n",
            " [ 0.  0.  0.  0.  0.]\n",
            " [ 0.  1.  0.  0.  0.]\n",
            " [ 0.  1. -0.  0.  0.]\n",
            " [ 0.  1. -0.  0.  0.]\n",
            " [ 0.  0.  0.  0.  0.]\n",
            " [ 0.  0.  0.  0.  0.]\n",
            " [ 0.  0. -0. -0.  0.]\n",
            " [ 0.  0.  0.  0.  0.]\n",
            " [ 0.  0.  0.  0.  0.]\n",
            " [ 0.  0.  0.  0.  0.]\n",
            " [ 0.  1.  0.  0.  0.]\n",
            " [ 0.  0.  0.  0.  0.]\n",
            " [ 0.  1. -0.  0.  0.]]\n",
            "(23, 5)\n"
          ]
        }
      ]
    },
    {
      "cell_type": "code",
      "source": [
        "y_true5=y_val\n",
        "print(y_true5)\n",
        "print(np.shape(y_true5))"
      ],
      "metadata": {
        "colab": {
          "base_uri": "https://localhost:8080/"
        },
        "id": "U4WbCzEE8lwu",
        "outputId": "1ec4ffa7-d91f-4548-ee31-ada2bc5cd5e4"
      },
      "execution_count": null,
      "outputs": [
        {
          "output_type": "stream",
          "name": "stdout",
          "text": [
            "[[1. 0. 0. 0. 0.]\n",
            " [0. 0. 1. 0. 0.]\n",
            " [0. 0. 0. 1. 0.]\n",
            " [0. 0. 1. 0. 0.]\n",
            " [0. 0. 0. 1. 0.]\n",
            " [0. 0. 0. 1. 0.]\n",
            " [1. 0. 0. 0. 0.]\n",
            " [0. 0. 0. 0. 1.]\n",
            " [0. 0. 1. 0. 0.]\n",
            " [0. 0. 0. 0. 1.]\n",
            " [1. 0. 0. 0. 0.]\n",
            " [0. 0. 0. 1. 0.]\n",
            " [0. 0. 0. 0. 1.]\n",
            " [0. 0. 1. 0. 0.]\n",
            " [0. 1. 0. 0. 0.]\n",
            " [0. 0. 0. 1. 0.]\n",
            " [0. 1. 0. 0. 0.]\n",
            " [0. 0. 0. 1. 0.]\n",
            " [0. 1. 0. 0. 0.]\n",
            " [0. 1. 0. 0. 0.]]\n",
            "(20, 5)\n"
          ]
        }
      ]
    },
    {
      "cell_type": "code",
      "source": [
        "y_pred5=model.predict(x_val)\n",
        "print(y_pred5)\n",
        "print(np.shape(y_pred5))\n"
      ],
      "metadata": {
        "colab": {
          "base_uri": "https://localhost:8080/"
        },
        "id": "3vPamkBQ8w1Z",
        "outputId": "5f48fcb9-f8a8-4464-b8ff-1f0a7d97667b"
      },
      "execution_count": null,
      "outputs": [
        {
          "output_type": "stream",
          "name": "stdout",
          "text": [
            "1/1 [==============================] - 0s 204ms/step\n",
            "[[ 2.73565978e-01  3.40265594e-02  2.57248431e-01  2.31243402e-01\n",
            "   2.68268377e-01]\n",
            " [ 2.67417103e-01 -1.42312674e-02  2.99517751e-01  2.68705130e-01\n",
            "   2.23820657e-01]\n",
            " [ 2.66929090e-01 -5.07453345e-02  3.52679342e-01  3.20031494e-01\n",
            "   2.22438782e-01]\n",
            " [ 2.73172408e-01 -5.96404858e-02  3.65319073e-01  3.30239862e-01\n",
            "   2.16154546e-01]\n",
            " [ 2.85615712e-01  4.62778471e-02  2.48310164e-01  2.20588714e-01\n",
            "   2.73643792e-01]\n",
            " [ 3.05997521e-01  8.07866976e-02  2.05607891e-01  1.74642652e-01\n",
            "   2.70717472e-01]\n",
            " [ 3.36887598e-01  8.20861086e-02  2.25073829e-01  1.87861636e-01\n",
            "   2.80556977e-01]\n",
            " [ 2.51252383e-01  4.27295901e-02  2.18909770e-01  1.96455941e-01\n",
            "   2.44327128e-01]\n",
            " [ 3.33341897e-01  6.08668439e-02  2.51786649e-01  2.13895887e-01\n",
            "   2.75467247e-01]\n",
            " [ 2.57471561e-01  1.81804486e-02  2.85351068e-01  2.60350198e-01\n",
            "   2.42088556e-01]\n",
            " [ 2.76043057e-01  3.65158282e-02  2.55602837e-01  2.29265034e-01\n",
            "   2.69624293e-01]\n",
            " [ 2.91790038e-01  5.33125661e-02  2.42366254e-01  2.13768482e-01\n",
            "   2.75993168e-01]\n",
            " [ 2.14798108e-01 -8.67303014e-02  4.02611345e-01  3.83541167e-01\n",
            "   2.60937840e-01]\n",
            " [ 3.05997521e-01  8.07866976e-02  2.05607891e-01  1.74642652e-01\n",
            "   2.70717472e-01]\n",
            " [ 2.41780486e-02  1.13494205e+00 -1.19092669e-02  7.04305992e-02\n",
            "  -1.10008754e-03]\n",
            " [ 2.99808472e-01  6.26591370e-02  2.31376514e-01  2.01222271e-01\n",
            "   2.74045199e-01]\n",
            " [ 2.77673155e-01  3.14429164e-01  1.23103164e-01  1.04264610e-01\n",
            "   1.53638169e-01]\n",
            " [ 3.04739505e-01  7.57888630e-02  2.12209806e-01  1.81258604e-01\n",
            "   2.70403385e-01]\n",
            " [ 4.20475274e-01  2.22595051e-01  1.30226389e-01  7.17246160e-02\n",
            "   1.57164246e-01]\n",
            " [ 2.56279439e-01  4.00491893e-01  6.43399730e-02  5.27255051e-02\n",
            "   1.16501637e-01]]\n",
            "(20, 5)\n"
          ]
        }
      ]
    },
    {
      "cell_type": "code",
      "source": [
        "yt_true5=y_true5.astype(int)\n",
        "print(yt_true5)\n",
        "print(np.shape(yt_true5))"
      ],
      "metadata": {
        "colab": {
          "base_uri": "https://localhost:8080/"
        },
        "id": "UH2uDIRT84-g",
        "outputId": "0ff538a4-7731-4efd-e244-3e00b45171e7"
      },
      "execution_count": null,
      "outputs": [
        {
          "output_type": "stream",
          "name": "stdout",
          "text": [
            "[[1 0 0 0 0]\n",
            " [0 0 1 0 0]\n",
            " [0 0 0 1 0]\n",
            " [0 0 1 0 0]\n",
            " [0 0 0 1 0]\n",
            " [0 0 0 1 0]\n",
            " [1 0 0 0 0]\n",
            " [0 0 0 0 1]\n",
            " [0 0 1 0 0]\n",
            " [0 0 0 0 1]\n",
            " [1 0 0 0 0]\n",
            " [0 0 0 1 0]\n",
            " [0 0 0 0 1]\n",
            " [0 0 1 0 0]\n",
            " [0 1 0 0 0]\n",
            " [0 0 0 1 0]\n",
            " [0 1 0 0 0]\n",
            " [0 0 0 1 0]\n",
            " [0 1 0 0 0]\n",
            " [0 1 0 0 0]]\n",
            "(20, 5)\n"
          ]
        }
      ]
    },
    {
      "cell_type": "code",
      "source": [
        "yp_pred5=np.round(y_pred5)\n",
        "print(yp_pred5)\n",
        "print(np.shape(y_pred5))"
      ],
      "metadata": {
        "colab": {
          "base_uri": "https://localhost:8080/"
        },
        "id": "OpKkLOap89ef",
        "outputId": "37151406-e085-453b-ba5d-8bdf67ef1051"
      },
      "execution_count": null,
      "outputs": [
        {
          "output_type": "stream",
          "name": "stdout",
          "text": [
            "[[ 0.  0.  0.  0.  0.]\n",
            " [ 0. -0.  0.  0.  0.]\n",
            " [ 0. -0.  0.  0.  0.]\n",
            " [ 0. -0.  0.  0.  0.]\n",
            " [ 0.  0.  0.  0.  0.]\n",
            " [ 0.  0.  0.  0.  0.]\n",
            " [ 0.  0.  0.  0.  0.]\n",
            " [ 0.  0.  0.  0.  0.]\n",
            " [ 0.  0.  0.  0.  0.]\n",
            " [ 0.  0.  0.  0.  0.]\n",
            " [ 0.  0.  0.  0.  0.]\n",
            " [ 0.  0.  0.  0.  0.]\n",
            " [ 0. -0.  0.  0.  0.]\n",
            " [ 0.  0.  0.  0.  0.]\n",
            " [ 0.  1. -0.  0. -0.]\n",
            " [ 0.  0.  0.  0.  0.]\n",
            " [ 0.  0.  0.  0.  0.]\n",
            " [ 0.  0.  0.  0.  0.]\n",
            " [ 0.  0.  0.  0.  0.]\n",
            " [ 0.  0.  0.  0.  0.]]\n",
            "(20, 5)\n"
          ]
        }
      ]
    },
    {
      "cell_type": "code",
      "source": [
        "cm12=mean_absolute_error(yt_true4,yp_pred4)\n",
        "cm13=r2_score(yt_true4,yp_pred4)\n",
        "cm14=explained_variance_score(yt_true4,yp_pred4)\n",
        "print(cm12)\n",
        "print(cm13)\n",
        "print(cm14)"
      ],
      "metadata": {
        "colab": {
          "base_uri": "https://localhost:8080/"
        },
        "id": "mKur0KEU5ROR",
        "outputId": "db33626c-5a16-4380-a19b-f722934e9db7"
      },
      "execution_count": null,
      "outputs": [
        {
          "output_type": "stream",
          "name": "stdout",
          "text": [
            "0.2260869565217391\n",
            "-0.44590643274853825\n",
            "-0.15789473684210523\n"
          ]
        }
      ]
    },
    {
      "cell_type": "code",
      "source": [
        "cm15=mean_absolute_error(yt_true5,yp_pred5)\n",
        "cm16=r2_score(yt_true5,yp_pred5)\n",
        "cm17=explained_variance_score(yt_true5,yp_pred5)\n",
        "print(cm15)\n",
        "print(cm16)\n",
        "print(cm17)"
      ],
      "metadata": {
        "colab": {
          "base_uri": "https://localhost:8080/"
        },
        "id": "9Wufxhqe5Ti9",
        "outputId": "3bc85aad-ecfe-4044-8e13-c7a52418e9c2"
      },
      "execution_count": null,
      "outputs": [
        {
          "output_type": "stream",
          "name": "stdout",
          "text": [
            "0.19\n",
            "-0.19380252100840348\n",
            "0.04062500000000002\n"
          ]
        }
      ]
    },
    {
      "cell_type": "code",
      "source": [
        "from sklearn.tree import DecisionTreeRegressor"
      ],
      "metadata": {
        "id": "IdukV4ekntd5"
      },
      "execution_count": null,
      "outputs": []
    },
    {
      "cell_type": "code",
      "source": [
        "dtrg=DecisionTreeRegressor(max_depth=2)\n",
        "dtrg.fit(training_images,training_labels)"
      ],
      "metadata": {
        "colab": {
          "base_uri": "https://localhost:8080/",
          "height": 75
        },
        "id": "8beyag9poC_-",
        "outputId": "54bcbe8a-16f6-4d9d-df7c-75ccd9e26923"
      },
      "execution_count": null,
      "outputs": [
        {
          "output_type": "execute_result",
          "data": {
            "text/plain": [
              "DecisionTreeRegressor(max_depth=2)"
            ],
            "text/html": [
              "<style>#sk-container-id-3 {color: black;background-color: white;}#sk-container-id-3 pre{padding: 0;}#sk-container-id-3 div.sk-toggleable {background-color: white;}#sk-container-id-3 label.sk-toggleable__label {cursor: pointer;display: block;width: 100%;margin-bottom: 0;padding: 0.3em;box-sizing: border-box;text-align: center;}#sk-container-id-3 label.sk-toggleable__label-arrow:before {content: \"▸\";float: left;margin-right: 0.25em;color: #696969;}#sk-container-id-3 label.sk-toggleable__label-arrow:hover:before {color: black;}#sk-container-id-3 div.sk-estimator:hover label.sk-toggleable__label-arrow:before {color: black;}#sk-container-id-3 div.sk-toggleable__content {max-height: 0;max-width: 0;overflow: hidden;text-align: left;background-color: #f0f8ff;}#sk-container-id-3 div.sk-toggleable__content pre {margin: 0.2em;color: black;border-radius: 0.25em;background-color: #f0f8ff;}#sk-container-id-3 input.sk-toggleable__control:checked~div.sk-toggleable__content {max-height: 200px;max-width: 100%;overflow: auto;}#sk-container-id-3 input.sk-toggleable__control:checked~label.sk-toggleable__label-arrow:before {content: \"▾\";}#sk-container-id-3 div.sk-estimator input.sk-toggleable__control:checked~label.sk-toggleable__label {background-color: #d4ebff;}#sk-container-id-3 div.sk-label input.sk-toggleable__control:checked~label.sk-toggleable__label {background-color: #d4ebff;}#sk-container-id-3 input.sk-hidden--visually {border: 0;clip: rect(1px 1px 1px 1px);clip: rect(1px, 1px, 1px, 1px);height: 1px;margin: -1px;overflow: hidden;padding: 0;position: absolute;width: 1px;}#sk-container-id-3 div.sk-estimator {font-family: monospace;background-color: #f0f8ff;border: 1px dotted black;border-radius: 0.25em;box-sizing: border-box;margin-bottom: 0.5em;}#sk-container-id-3 div.sk-estimator:hover {background-color: #d4ebff;}#sk-container-id-3 div.sk-parallel-item::after {content: \"\";width: 100%;border-bottom: 1px solid gray;flex-grow: 1;}#sk-container-id-3 div.sk-label:hover label.sk-toggleable__label {background-color: #d4ebff;}#sk-container-id-3 div.sk-serial::before {content: \"\";position: absolute;border-left: 1px solid gray;box-sizing: border-box;top: 0;bottom: 0;left: 50%;z-index: 0;}#sk-container-id-3 div.sk-serial {display: flex;flex-direction: column;align-items: center;background-color: white;padding-right: 0.2em;padding-left: 0.2em;position: relative;}#sk-container-id-3 div.sk-item {position: relative;z-index: 1;}#sk-container-id-3 div.sk-parallel {display: flex;align-items: stretch;justify-content: center;background-color: white;position: relative;}#sk-container-id-3 div.sk-item::before, #sk-container-id-3 div.sk-parallel-item::before {content: \"\";position: absolute;border-left: 1px solid gray;box-sizing: border-box;top: 0;bottom: 0;left: 50%;z-index: -1;}#sk-container-id-3 div.sk-parallel-item {display: flex;flex-direction: column;z-index: 1;position: relative;background-color: white;}#sk-container-id-3 div.sk-parallel-item:first-child::after {align-self: flex-end;width: 50%;}#sk-container-id-3 div.sk-parallel-item:last-child::after {align-self: flex-start;width: 50%;}#sk-container-id-3 div.sk-parallel-item:only-child::after {width: 0;}#sk-container-id-3 div.sk-dashed-wrapped {border: 1px dashed gray;margin: 0 0.4em 0.5em 0.4em;box-sizing: border-box;padding-bottom: 0.4em;background-color: white;}#sk-container-id-3 div.sk-label label {font-family: monospace;font-weight: bold;display: inline-block;line-height: 1.2em;}#sk-container-id-3 div.sk-label-container {text-align: center;}#sk-container-id-3 div.sk-container {/* jupyter's `normalize.less` sets `[hidden] { display: none; }` but bootstrap.min.css set `[hidden] { display: none !important; }` so we also need the `!important` here to be able to override the default hidden behavior on the sphinx rendered scikit-learn.org. See: https://github.com/scikit-learn/scikit-learn/issues/21755 */display: inline-block !important;position: relative;}#sk-container-id-3 div.sk-text-repr-fallback {display: none;}</style><div id=\"sk-container-id-3\" class=\"sk-top-container\"><div class=\"sk-text-repr-fallback\"><pre>DecisionTreeRegressor(max_depth=2)</pre><b>In a Jupyter environment, please rerun this cell to show the HTML representation or trust the notebook. <br />On GitHub, the HTML representation is unable to render, please try loading this page with nbviewer.org.</b></div><div class=\"sk-container\" hidden><div class=\"sk-item\"><div class=\"sk-estimator sk-toggleable\"><input class=\"sk-toggleable__control sk-hidden--visually\" id=\"sk-estimator-id-3\" type=\"checkbox\" checked><label for=\"sk-estimator-id-3\" class=\"sk-toggleable__label sk-toggleable__label-arrow\">DecisionTreeRegressor</label><div class=\"sk-toggleable__content\"><pre>DecisionTreeRegressor(max_depth=2)</pre></div></div></div></div></div>"
            ]
          },
          "metadata": {},
          "execution_count": 66
        }
      ]
    },
    {
      "cell_type": "code",
      "source": [
        "y_true6=y_test\n",
        "print(y_true6)\n",
        "print(np.shape(y_true6))"
      ],
      "metadata": {
        "colab": {
          "base_uri": "https://localhost:8080/"
        },
        "id": "A__E2RKwqDvS",
        "outputId": "1b8264f6-3a1b-4da8-854d-fbd4957c9f51"
      },
      "execution_count": null,
      "outputs": [
        {
          "output_type": "stream",
          "name": "stdout",
          "text": [
            "[[0. 0. 0. 0. 1.]\n",
            " [0. 1. 0. 0. 0.]\n",
            " [0. 0. 1. 0. 0.]\n",
            " [1. 0. 0. 0. 0.]\n",
            " [0. 0. 0. 1. 0.]\n",
            " [0. 1. 0. 0. 0.]\n",
            " [0. 0. 0. 0. 1.]\n",
            " [0. 0. 0. 1. 0.]\n",
            " [0. 0. 0. 1. 0.]\n",
            " [0. 0. 0. 1. 0.]\n",
            " [0. 0. 0. 0. 1.]\n",
            " [1. 0. 0. 0. 0.]\n",
            " [0. 0. 1. 0. 0.]\n",
            " [0. 0. 1. 0. 0.]\n",
            " [0. 0. 0. 1. 0.]\n",
            " [1. 0. 0. 0. 0.]\n",
            " [0. 1. 0. 0. 0.]\n",
            " [0. 0. 0. 1. 0.]\n",
            " [0. 0. 0. 1. 0.]\n",
            " [0. 0. 0. 1. 0.]\n",
            " [0. 1. 0. 0. 0.]\n",
            " [1. 0. 0. 0. 0.]\n",
            " [1. 0. 0. 0. 0.]]\n",
            "(23, 5)\n"
          ]
        }
      ]
    },
    {
      "cell_type": "code",
      "source": [
        "y_pred6=model.predict(x_test)\n",
        "print(y_pred6)\n",
        "print(np.shape(y_pred6))"
      ],
      "metadata": {
        "colab": {
          "base_uri": "https://localhost:8080/"
        },
        "id": "K7EUoYE3qNPx",
        "outputId": "a6795881-02a3-419a-f4d3-2181a814acf3"
      },
      "execution_count": null,
      "outputs": [
        {
          "output_type": "stream",
          "name": "stdout",
          "text": [
            "1/1 [==============================] - 0s 136ms/step\n",
            "[[ 0.08797663  0.8314718  -0.04568015  0.00304323  0.02624518]\n",
            " [ 0.1389129   0.7136681  -0.07212432 -0.04192946  0.04799462]\n",
            " [ 0.25747156  0.01818045  0.28535107  0.2603502   0.24208856]\n",
            " [ 0.06152423  0.7658386  -0.02081118  0.02917504  0.01472724]\n",
            " [ 0.02237388 -0.0925495   0.35473844  0.38583076  0.32940128]\n",
            " [ 0.1549787   0.6079173   0.05517184  0.0779165   0.07319792]\n",
            " [ 0.26949435  0.14337951  0.20622183  0.18210652  0.19494319]\n",
            " [ 0.2344856   0.15470627  0.23265973  0.21942045  0.21407479]\n",
            " [ 0.2972498   0.06006638  0.23549804  0.20603311  0.27668422]\n",
            " [ 0.39428735  0.17702405  0.08710026  0.03174811  0.16298486]\n",
            " [ 0.24182779  0.23344892  0.19200157  0.17984657  0.18913569]\n",
            " [ 0.06662377  0.5255836   0.07947458  0.12069792  0.10773192]\n",
            " [ 0.08797663  0.8314718  -0.04568015  0.00304323  0.02624518]\n",
            " [ 0.08847507  0.9721292  -0.04534857  0.01266077  0.02636368]\n",
            " [ 0.29473177  0.00603929  0.2847644   0.24886829  0.22648737]\n",
            " [ 0.24493769  0.42939472  0.12140698  0.11628883  0.13209794]\n",
            " [ 0.20997752  0.46177793 -0.0323232  -0.03337998  0.07306931]\n",
            " [ 0.2994682   0.06207735  0.23420437  0.20440955  0.2776548 ]\n",
            " [ 0.27590743  0.17914228  0.17843603  0.15440439  0.18900153]\n",
            " [ 0.31147757  0.07647973  0.22804622  0.19752161  0.29316342]\n",
            " [ 0.11610713  0.6788467   0.02998727  0.06532537  0.05949336]\n",
            " [ 0.10566359  0.48920557  0.09852371  0.12953812  0.12379108]\n",
            " [ 0.07635411  0.6263825  -0.03258346  0.00572761  0.03098746]]\n",
            "(23, 5)\n"
          ]
        }
      ]
    },
    {
      "cell_type": "code",
      "source": [
        "yt_true6=y_true6.astype(int)\n",
        "print(yt_true6)\n",
        "print(np.shape(yt_true6))"
      ],
      "metadata": {
        "colab": {
          "base_uri": "https://localhost:8080/"
        },
        "id": "mzN9F_GMsKq6",
        "outputId": "7fe88ae9-0f1b-48f3-a229-de5585c291bc"
      },
      "execution_count": null,
      "outputs": [
        {
          "output_type": "stream",
          "name": "stdout",
          "text": [
            "[[0 0 0 0 1]\n",
            " [0 1 0 0 0]\n",
            " [0 0 1 0 0]\n",
            " [1 0 0 0 0]\n",
            " [0 0 0 1 0]\n",
            " [0 1 0 0 0]\n",
            " [0 0 0 0 1]\n",
            " [0 0 0 1 0]\n",
            " [0 0 0 1 0]\n",
            " [0 0 0 1 0]\n",
            " [0 0 0 0 1]\n",
            " [1 0 0 0 0]\n",
            " [0 0 1 0 0]\n",
            " [0 0 1 0 0]\n",
            " [0 0 0 1 0]\n",
            " [1 0 0 0 0]\n",
            " [0 1 0 0 0]\n",
            " [0 0 0 1 0]\n",
            " [0 0 0 1 0]\n",
            " [0 0 0 1 0]\n",
            " [0 1 0 0 0]\n",
            " [1 0 0 0 0]\n",
            " [1 0 0 0 0]]\n",
            "(23, 5)\n"
          ]
        }
      ]
    },
    {
      "cell_type": "code",
      "source": [
        "yp_pred6=np.round(y_pred6)\n",
        "print(yp_pred6)\n",
        "print(np.shape(y_pred6))"
      ],
      "metadata": {
        "colab": {
          "base_uri": "https://localhost:8080/"
        },
        "id": "wEikeHm7scBu",
        "outputId": "bae61a81-34af-4e0e-b007-4e4f4fbb3365"
      },
      "execution_count": null,
      "outputs": [
        {
          "output_type": "stream",
          "name": "stdout",
          "text": [
            "[[ 0.  1. -0.  0.  0.]\n",
            " [ 0.  1. -0. -0.  0.]\n",
            " [ 0.  0.  0.  0.  0.]\n",
            " [ 0.  1. -0.  0.  0.]\n",
            " [ 0. -0.  0.  0.  0.]\n",
            " [ 0.  1.  0.  0.  0.]\n",
            " [ 0.  0.  0.  0.  0.]\n",
            " [ 0.  0.  0.  0.  0.]\n",
            " [ 0.  0.  0.  0.  0.]\n",
            " [ 0.  0.  0.  0.  0.]\n",
            " [ 0.  0.  0.  0.  0.]\n",
            " [ 0.  1.  0.  0.  0.]\n",
            " [ 0.  1. -0.  0.  0.]\n",
            " [ 0.  1. -0.  0.  0.]\n",
            " [ 0.  0.  0.  0.  0.]\n",
            " [ 0.  0.  0.  0.  0.]\n",
            " [ 0.  0. -0. -0.  0.]\n",
            " [ 0.  0.  0.  0.  0.]\n",
            " [ 0.  0.  0.  0.  0.]\n",
            " [ 0.  0.  0.  0.  0.]\n",
            " [ 0.  1.  0.  0.  0.]\n",
            " [ 0.  0.  0.  0.  0.]\n",
            " [ 0.  1. -0.  0.  0.]]\n",
            "(23, 5)\n"
          ]
        }
      ]
    },
    {
      "cell_type": "code",
      "source": [
        "y_true7=y_val\n",
        "print(y_true7)\n",
        "print(np.shape(y_true7))"
      ],
      "metadata": {
        "colab": {
          "base_uri": "https://localhost:8080/"
        },
        "id": "W7udqFAf-Day",
        "outputId": "37fb30d0-6da4-4671-8bd4-a74badb1350d"
      },
      "execution_count": null,
      "outputs": [
        {
          "output_type": "stream",
          "name": "stdout",
          "text": [
            "[[1. 0. 0. 0. 0.]\n",
            " [0. 0. 1. 0. 0.]\n",
            " [0. 0. 0. 1. 0.]\n",
            " [0. 0. 1. 0. 0.]\n",
            " [0. 0. 0. 1. 0.]\n",
            " [0. 0. 0. 1. 0.]\n",
            " [1. 0. 0. 0. 0.]\n",
            " [0. 0. 0. 0. 1.]\n",
            " [0. 0. 1. 0. 0.]\n",
            " [0. 0. 0. 0. 1.]\n",
            " [1. 0. 0. 0. 0.]\n",
            " [0. 0. 0. 1. 0.]\n",
            " [0. 0. 0. 0. 1.]\n",
            " [0. 0. 1. 0. 0.]\n",
            " [0. 1. 0. 0. 0.]\n",
            " [0. 0. 0. 1. 0.]\n",
            " [0. 1. 0. 0. 0.]\n",
            " [0. 0. 0. 1. 0.]\n",
            " [0. 1. 0. 0. 0.]\n",
            " [0. 1. 0. 0. 0.]]\n",
            "(20, 5)\n"
          ]
        }
      ]
    },
    {
      "cell_type": "code",
      "source": [
        "y_pred7=model.predict(x_val)\n",
        "print(y_pred7)\n",
        "print(np.shape(y_pred7))"
      ],
      "metadata": {
        "colab": {
          "base_uri": "https://localhost:8080/"
        },
        "id": "iO8z929S-K_f",
        "outputId": "66f07d18-b48f-485c-c4c3-172ce3b0458d"
      },
      "execution_count": null,
      "outputs": [
        {
          "output_type": "stream",
          "name": "stdout",
          "text": [
            "1/1 [==============================] - 0s 123ms/step\n",
            "[[ 2.73565978e-01  3.40265594e-02  2.57248431e-01  2.31243402e-01\n",
            "   2.68268377e-01]\n",
            " [ 2.67417103e-01 -1.42312674e-02  2.99517751e-01  2.68705130e-01\n",
            "   2.23820657e-01]\n",
            " [ 2.66929090e-01 -5.07453345e-02  3.52679342e-01  3.20031494e-01\n",
            "   2.22438782e-01]\n",
            " [ 2.73172408e-01 -5.96404858e-02  3.65319073e-01  3.30239862e-01\n",
            "   2.16154546e-01]\n",
            " [ 2.85615712e-01  4.62778471e-02  2.48310164e-01  2.20588714e-01\n",
            "   2.73643792e-01]\n",
            " [ 3.05997521e-01  8.07866976e-02  2.05607891e-01  1.74642652e-01\n",
            "   2.70717472e-01]\n",
            " [ 3.36887598e-01  8.20861086e-02  2.25073829e-01  1.87861636e-01\n",
            "   2.80556977e-01]\n",
            " [ 2.51252383e-01  4.27295901e-02  2.18909770e-01  1.96455941e-01\n",
            "   2.44327128e-01]\n",
            " [ 3.33341897e-01  6.08668439e-02  2.51786649e-01  2.13895887e-01\n",
            "   2.75467247e-01]\n",
            " [ 2.57471561e-01  1.81804486e-02  2.85351068e-01  2.60350198e-01\n",
            "   2.42088556e-01]\n",
            " [ 2.76043057e-01  3.65158282e-02  2.55602837e-01  2.29265034e-01\n",
            "   2.69624293e-01]\n",
            " [ 2.91790038e-01  5.33125661e-02  2.42366254e-01  2.13768482e-01\n",
            "   2.75993168e-01]\n",
            " [ 2.14798108e-01 -8.67303014e-02  4.02611345e-01  3.83541167e-01\n",
            "   2.60937840e-01]\n",
            " [ 3.05997521e-01  8.07866976e-02  2.05607891e-01  1.74642652e-01\n",
            "   2.70717472e-01]\n",
            " [ 2.41780486e-02  1.13494205e+00 -1.19092669e-02  7.04305992e-02\n",
            "  -1.10008754e-03]\n",
            " [ 2.99808472e-01  6.26591370e-02  2.31376514e-01  2.01222271e-01\n",
            "   2.74045199e-01]\n",
            " [ 2.77673155e-01  3.14429164e-01  1.23103164e-01  1.04264610e-01\n",
            "   1.53638169e-01]\n",
            " [ 3.04739505e-01  7.57888630e-02  2.12209806e-01  1.81258604e-01\n",
            "   2.70403385e-01]\n",
            " [ 4.20475274e-01  2.22595051e-01  1.30226389e-01  7.17246160e-02\n",
            "   1.57164246e-01]\n",
            " [ 2.56279439e-01  4.00491893e-01  6.43399730e-02  5.27255051e-02\n",
            "   1.16501637e-01]]\n",
            "(20, 5)\n"
          ]
        }
      ]
    },
    {
      "cell_type": "code",
      "source": [
        "yt_true7=y_true7.astype(int)\n",
        "print(yt_true7)\n",
        "print(np.shape(yt_true7))"
      ],
      "metadata": {
        "colab": {
          "base_uri": "https://localhost:8080/"
        },
        "id": "nz1wdR9y-XxT",
        "outputId": "f7787674-c22f-4c00-f5e9-db2ac8df490a"
      },
      "execution_count": null,
      "outputs": [
        {
          "output_type": "stream",
          "name": "stdout",
          "text": [
            "[[1 0 0 0 0]\n",
            " [0 0 1 0 0]\n",
            " [0 0 0 1 0]\n",
            " [0 0 1 0 0]\n",
            " [0 0 0 1 0]\n",
            " [0 0 0 1 0]\n",
            " [1 0 0 0 0]\n",
            " [0 0 0 0 1]\n",
            " [0 0 1 0 0]\n",
            " [0 0 0 0 1]\n",
            " [1 0 0 0 0]\n",
            " [0 0 0 1 0]\n",
            " [0 0 0 0 1]\n",
            " [0 0 1 0 0]\n",
            " [0 1 0 0 0]\n",
            " [0 0 0 1 0]\n",
            " [0 1 0 0 0]\n",
            " [0 0 0 1 0]\n",
            " [0 1 0 0 0]\n",
            " [0 1 0 0 0]]\n",
            "(20, 5)\n"
          ]
        }
      ]
    },
    {
      "cell_type": "code",
      "source": [
        "yp_pred7=np.round(y_pred7)\n",
        "print(yp_pred7)\n",
        "print(np.shape(y_pred7))"
      ],
      "metadata": {
        "colab": {
          "base_uri": "https://localhost:8080/"
        },
        "id": "txKBdbnb-YBo",
        "outputId": "55f68a6c-a55c-4bce-cacc-98d50fbe1277"
      },
      "execution_count": null,
      "outputs": [
        {
          "output_type": "stream",
          "name": "stdout",
          "text": [
            "[[ 0.  0.  0.  0.  0.]\n",
            " [ 0. -0.  0.  0.  0.]\n",
            " [ 0. -0.  0.  0.  0.]\n",
            " [ 0. -0.  0.  0.  0.]\n",
            " [ 0.  0.  0.  0.  0.]\n",
            " [ 0.  0.  0.  0.  0.]\n",
            " [ 0.  0.  0.  0.  0.]\n",
            " [ 0.  0.  0.  0.  0.]\n",
            " [ 0.  0.  0.  0.  0.]\n",
            " [ 0.  0.  0.  0.  0.]\n",
            " [ 0.  0.  0.  0.  0.]\n",
            " [ 0.  0.  0.  0.  0.]\n",
            " [ 0. -0.  0.  0.  0.]\n",
            " [ 0.  0.  0.  0.  0.]\n",
            " [ 0.  1. -0.  0. -0.]\n",
            " [ 0.  0.  0.  0.  0.]\n",
            " [ 0.  0.  0.  0.  0.]\n",
            " [ 0.  0.  0.  0.  0.]\n",
            " [ 0.  0.  0.  0.  0.]\n",
            " [ 0.  0.  0.  0.  0.]]\n",
            "(20, 5)\n"
          ]
        }
      ]
    },
    {
      "cell_type": "code",
      "source": [
        "cm18=mean_absolute_error(yt_true6,yp_pred6)\n",
        "cm19=r2_score(yt_true6,yp_pred6)\n",
        "cm20=explained_variance_score(yt_true6,yp_pred6)\n",
        "print(cm18)\n",
        "print(cm19)\n",
        "print(cm20)"
      ],
      "metadata": {
        "colab": {
          "base_uri": "https://localhost:8080/"
        },
        "id": "rKneyJCS-2bK",
        "outputId": "73a4acc6-e399-436a-bfb0-bd577f7ed546"
      },
      "execution_count": null,
      "outputs": [
        {
          "output_type": "stream",
          "name": "stdout",
          "text": [
            "0.2260869565217391\n",
            "-0.44590643274853825\n",
            "-0.15789473684210523\n"
          ]
        }
      ]
    },
    {
      "cell_type": "code",
      "source": [
        "cm21=mean_absolute_error(yt_true7,yp_pred7)\n",
        "cm22=r2_score(yt_true7,yp_pred7)\n",
        "cm23=explained_variance_score(yt_true7,yp_pred7)\n",
        "print(cm21)\n",
        "print(cm22)\n",
        "print(cm23)"
      ],
      "metadata": {
        "colab": {
          "base_uri": "https://localhost:8080/"
        },
        "id": "UNuzn9W0-2u8",
        "outputId": "e6eb85be-271f-48a8-d247-653dcb04ee99"
      },
      "execution_count": null,
      "outputs": [
        {
          "output_type": "stream",
          "name": "stdout",
          "text": [
            "0.19\n",
            "-0.19380252100840348\n",
            "0.04062500000000002\n"
          ]
        }
      ]
    },
    {
      "cell_type": "code",
      "source": [
        "from sklearn.ensemble import RandomForestRegressor"
      ],
      "metadata": {
        "id": "GvustVmGviPN"
      },
      "execution_count": null,
      "outputs": []
    },
    {
      "cell_type": "code",
      "source": [
        "rfrg=RandomForestRegressor(n_estimators=10,max_depth=None,min_samples_split=2)\n",
        "rfrg.fit(training_images,training_labels)"
      ],
      "metadata": {
        "colab": {
          "base_uri": "https://localhost:8080/",
          "height": 75
        },
        "id": "P-VwK7Mg6dDe",
        "outputId": "36091f72-8d0d-465c-c1ed-30f522daeaa7"
      },
      "execution_count": null,
      "outputs": [
        {
          "output_type": "execute_result",
          "data": {
            "text/plain": [
              "RandomForestRegressor(n_estimators=10)"
            ],
            "text/html": [
              "<style>#sk-container-id-4 {color: black;background-color: white;}#sk-container-id-4 pre{padding: 0;}#sk-container-id-4 div.sk-toggleable {background-color: white;}#sk-container-id-4 label.sk-toggleable__label {cursor: pointer;display: block;width: 100%;margin-bottom: 0;padding: 0.3em;box-sizing: border-box;text-align: center;}#sk-container-id-4 label.sk-toggleable__label-arrow:before {content: \"▸\";float: left;margin-right: 0.25em;color: #696969;}#sk-container-id-4 label.sk-toggleable__label-arrow:hover:before {color: black;}#sk-container-id-4 div.sk-estimator:hover label.sk-toggleable__label-arrow:before {color: black;}#sk-container-id-4 div.sk-toggleable__content {max-height: 0;max-width: 0;overflow: hidden;text-align: left;background-color: #f0f8ff;}#sk-container-id-4 div.sk-toggleable__content pre {margin: 0.2em;color: black;border-radius: 0.25em;background-color: #f0f8ff;}#sk-container-id-4 input.sk-toggleable__control:checked~div.sk-toggleable__content {max-height: 200px;max-width: 100%;overflow: auto;}#sk-container-id-4 input.sk-toggleable__control:checked~label.sk-toggleable__label-arrow:before {content: \"▾\";}#sk-container-id-4 div.sk-estimator input.sk-toggleable__control:checked~label.sk-toggleable__label {background-color: #d4ebff;}#sk-container-id-4 div.sk-label input.sk-toggleable__control:checked~label.sk-toggleable__label {background-color: #d4ebff;}#sk-container-id-4 input.sk-hidden--visually {border: 0;clip: rect(1px 1px 1px 1px);clip: rect(1px, 1px, 1px, 1px);height: 1px;margin: -1px;overflow: hidden;padding: 0;position: absolute;width: 1px;}#sk-container-id-4 div.sk-estimator {font-family: monospace;background-color: #f0f8ff;border: 1px dotted black;border-radius: 0.25em;box-sizing: border-box;margin-bottom: 0.5em;}#sk-container-id-4 div.sk-estimator:hover {background-color: #d4ebff;}#sk-container-id-4 div.sk-parallel-item::after {content: \"\";width: 100%;border-bottom: 1px solid gray;flex-grow: 1;}#sk-container-id-4 div.sk-label:hover label.sk-toggleable__label {background-color: #d4ebff;}#sk-container-id-4 div.sk-serial::before {content: \"\";position: absolute;border-left: 1px solid gray;box-sizing: border-box;top: 0;bottom: 0;left: 50%;z-index: 0;}#sk-container-id-4 div.sk-serial {display: flex;flex-direction: column;align-items: center;background-color: white;padding-right: 0.2em;padding-left: 0.2em;position: relative;}#sk-container-id-4 div.sk-item {position: relative;z-index: 1;}#sk-container-id-4 div.sk-parallel {display: flex;align-items: stretch;justify-content: center;background-color: white;position: relative;}#sk-container-id-4 div.sk-item::before, #sk-container-id-4 div.sk-parallel-item::before {content: \"\";position: absolute;border-left: 1px solid gray;box-sizing: border-box;top: 0;bottom: 0;left: 50%;z-index: -1;}#sk-container-id-4 div.sk-parallel-item {display: flex;flex-direction: column;z-index: 1;position: relative;background-color: white;}#sk-container-id-4 div.sk-parallel-item:first-child::after {align-self: flex-end;width: 50%;}#sk-container-id-4 div.sk-parallel-item:last-child::after {align-self: flex-start;width: 50%;}#sk-container-id-4 div.sk-parallel-item:only-child::after {width: 0;}#sk-container-id-4 div.sk-dashed-wrapped {border: 1px dashed gray;margin: 0 0.4em 0.5em 0.4em;box-sizing: border-box;padding-bottom: 0.4em;background-color: white;}#sk-container-id-4 div.sk-label label {font-family: monospace;font-weight: bold;display: inline-block;line-height: 1.2em;}#sk-container-id-4 div.sk-label-container {text-align: center;}#sk-container-id-4 div.sk-container {/* jupyter's `normalize.less` sets `[hidden] { display: none; }` but bootstrap.min.css set `[hidden] { display: none !important; }` so we also need the `!important` here to be able to override the default hidden behavior on the sphinx rendered scikit-learn.org. See: https://github.com/scikit-learn/scikit-learn/issues/21755 */display: inline-block !important;position: relative;}#sk-container-id-4 div.sk-text-repr-fallback {display: none;}</style><div id=\"sk-container-id-4\" class=\"sk-top-container\"><div class=\"sk-text-repr-fallback\"><pre>RandomForestRegressor(n_estimators=10)</pre><b>In a Jupyter environment, please rerun this cell to show the HTML representation or trust the notebook. <br />On GitHub, the HTML representation is unable to render, please try loading this page with nbviewer.org.</b></div><div class=\"sk-container\" hidden><div class=\"sk-item\"><div class=\"sk-estimator sk-toggleable\"><input class=\"sk-toggleable__control sk-hidden--visually\" id=\"sk-estimator-id-4\" type=\"checkbox\" checked><label for=\"sk-estimator-id-4\" class=\"sk-toggleable__label sk-toggleable__label-arrow\">RandomForestRegressor</label><div class=\"sk-toggleable__content\"><pre>RandomForestRegressor(n_estimators=10)</pre></div></div></div></div></div>"
            ]
          },
          "metadata": {},
          "execution_count": 80
        }
      ]
    },
    {
      "cell_type": "code",
      "source": [
        "y_true8=y_test\n",
        "print(y_true8)\n",
        "print(np.shape(y_true8))"
      ],
      "metadata": {
        "colab": {
          "base_uri": "https://localhost:8080/"
        },
        "id": "wFVJ3HiJw51r",
        "outputId": "bb6e4387-011d-4db5-d204-69cbc01d00d5"
      },
      "execution_count": null,
      "outputs": [
        {
          "output_type": "stream",
          "name": "stdout",
          "text": [
            "[[0. 0. 0. 0. 1.]\n",
            " [0. 1. 0. 0. 0.]\n",
            " [0. 0. 1. 0. 0.]\n",
            " [1. 0. 0. 0. 0.]\n",
            " [0. 0. 0. 1. 0.]\n",
            " [0. 1. 0. 0. 0.]\n",
            " [0. 0. 0. 0. 1.]\n",
            " [0. 0. 0. 1. 0.]\n",
            " [0. 0. 0. 1. 0.]\n",
            " [0. 0. 0. 1. 0.]\n",
            " [0. 0. 0. 0. 1.]\n",
            " [1. 0. 0. 0. 0.]\n",
            " [0. 0. 1. 0. 0.]\n",
            " [0. 0. 1. 0. 0.]\n",
            " [0. 0. 0. 1. 0.]\n",
            " [1. 0. 0. 0. 0.]\n",
            " [0. 1. 0. 0. 0.]\n",
            " [0. 0. 0. 1. 0.]\n",
            " [0. 0. 0. 1. 0.]\n",
            " [0. 0. 0. 1. 0.]\n",
            " [0. 1. 0. 0. 0.]\n",
            " [1. 0. 0. 0. 0.]\n",
            " [1. 0. 0. 0. 0.]]\n",
            "(23, 5)\n"
          ]
        }
      ]
    },
    {
      "cell_type": "code",
      "source": [
        "y_pred8=model.predict(x_test)\n",
        "print(y_pred8)\n",
        "print(np.shape(y_pred8))"
      ],
      "metadata": {
        "colab": {
          "base_uri": "https://localhost:8080/"
        },
        "id": "Td10Q31IxG7G",
        "outputId": "962199ca-9a4f-41d2-81ee-b76f573aecdb"
      },
      "execution_count": null,
      "outputs": [
        {
          "output_type": "stream",
          "name": "stdout",
          "text": [
            "1/1 [==============================] - 0s 256ms/step\n",
            "[[ 0.08797663  0.8314718  -0.04568015  0.00304323  0.02624518]\n",
            " [ 0.1389129   0.7136681  -0.07212432 -0.04192946  0.04799462]\n",
            " [ 0.25747156  0.01818045  0.28535107  0.2603502   0.24208856]\n",
            " [ 0.06152423  0.7658386  -0.02081118  0.02917504  0.01472724]\n",
            " [ 0.02237388 -0.0925495   0.35473844  0.38583076  0.32940128]\n",
            " [ 0.1549787   0.6079173   0.05517184  0.0779165   0.07319792]\n",
            " [ 0.26949435  0.14337951  0.20622183  0.18210652  0.19494319]\n",
            " [ 0.2344856   0.15470627  0.23265973  0.21942045  0.21407479]\n",
            " [ 0.2972498   0.06006638  0.23549804  0.20603311  0.27668422]\n",
            " [ 0.39428735  0.17702405  0.08710026  0.03174811  0.16298486]\n",
            " [ 0.24182779  0.23344892  0.19200157  0.17984657  0.18913569]\n",
            " [ 0.06662377  0.5255836   0.07947458  0.12069792  0.10773192]\n",
            " [ 0.08797663  0.8314718  -0.04568015  0.00304323  0.02624518]\n",
            " [ 0.08847507  0.9721292  -0.04534857  0.01266077  0.02636368]\n",
            " [ 0.29473177  0.00603929  0.2847644   0.24886829  0.22648737]\n",
            " [ 0.24493769  0.42939472  0.12140698  0.11628883  0.13209794]\n",
            " [ 0.20997752  0.46177793 -0.0323232  -0.03337998  0.07306931]\n",
            " [ 0.2994682   0.06207735  0.23420437  0.20440955  0.2776548 ]\n",
            " [ 0.27590743  0.17914228  0.17843603  0.15440439  0.18900153]\n",
            " [ 0.31147757  0.07647973  0.22804622  0.19752161  0.29316342]\n",
            " [ 0.11610713  0.6788467   0.02998727  0.06532537  0.05949336]\n",
            " [ 0.10566359  0.48920557  0.09852371  0.12953812  0.12379108]\n",
            " [ 0.07635411  0.6263825  -0.03258346  0.00572761  0.03098746]]\n",
            "(23, 5)\n"
          ]
        }
      ]
    },
    {
      "cell_type": "code",
      "source": [
        "yt_true8=y_true8.astype(int)\n",
        "print(yt_true8)\n",
        "print(np.shape(yt_true8))"
      ],
      "metadata": {
        "colab": {
          "base_uri": "https://localhost:8080/"
        },
        "id": "6NUFxd07xXzM",
        "outputId": "15a4170c-8b56-4393-ff3a-fd40ea453626"
      },
      "execution_count": null,
      "outputs": [
        {
          "output_type": "stream",
          "name": "stdout",
          "text": [
            "[[0 0 0 0 1]\n",
            " [0 1 0 0 0]\n",
            " [0 0 1 0 0]\n",
            " [1 0 0 0 0]\n",
            " [0 0 0 1 0]\n",
            " [0 1 0 0 0]\n",
            " [0 0 0 0 1]\n",
            " [0 0 0 1 0]\n",
            " [0 0 0 1 0]\n",
            " [0 0 0 1 0]\n",
            " [0 0 0 0 1]\n",
            " [1 0 0 0 0]\n",
            " [0 0 1 0 0]\n",
            " [0 0 1 0 0]\n",
            " [0 0 0 1 0]\n",
            " [1 0 0 0 0]\n",
            " [0 1 0 0 0]\n",
            " [0 0 0 1 0]\n",
            " [0 0 0 1 0]\n",
            " [0 0 0 1 0]\n",
            " [0 1 0 0 0]\n",
            " [1 0 0 0 0]\n",
            " [1 0 0 0 0]]\n",
            "(23, 5)\n"
          ]
        }
      ]
    },
    {
      "cell_type": "code",
      "source": [
        "yp_pred8=np.round(y_pred8)\n",
        "print(yp_pred8)\n",
        "print(np.shape(y_pred8))"
      ],
      "metadata": {
        "colab": {
          "base_uri": "https://localhost:8080/"
        },
        "id": "eKt02Zz0xq-x",
        "outputId": "afec9b6a-6936-4c74-87e1-f9c431a94d34"
      },
      "execution_count": null,
      "outputs": [
        {
          "output_type": "stream",
          "name": "stdout",
          "text": [
            "[[ 0.  1. -0.  0.  0.]\n",
            " [ 0.  1. -0. -0.  0.]\n",
            " [ 0.  0.  0.  0.  0.]\n",
            " [ 0.  1. -0.  0.  0.]\n",
            " [ 0. -0.  0.  0.  0.]\n",
            " [ 0.  1.  0.  0.  0.]\n",
            " [ 0.  0.  0.  0.  0.]\n",
            " [ 0.  0.  0.  0.  0.]\n",
            " [ 0.  0.  0.  0.  0.]\n",
            " [ 0.  0.  0.  0.  0.]\n",
            " [ 0.  0.  0.  0.  0.]\n",
            " [ 0.  1.  0.  0.  0.]\n",
            " [ 0.  1. -0.  0.  0.]\n",
            " [ 0.  1. -0.  0.  0.]\n",
            " [ 0.  0.  0.  0.  0.]\n",
            " [ 0.  0.  0.  0.  0.]\n",
            " [ 0.  0. -0. -0.  0.]\n",
            " [ 0.  0.  0.  0.  0.]\n",
            " [ 0.  0.  0.  0.  0.]\n",
            " [ 0.  0.  0.  0.  0.]\n",
            " [ 0.  1.  0.  0.  0.]\n",
            " [ 0.  0.  0.  0.  0.]\n",
            " [ 0.  1. -0.  0.  0.]]\n",
            "(23, 5)\n"
          ]
        }
      ]
    },
    {
      "cell_type": "code",
      "source": [
        "y_true9=y_val\n",
        "print(y_true9)\n",
        "print(np.shape(y_true9))"
      ],
      "metadata": {
        "colab": {
          "base_uri": "https://localhost:8080/"
        },
        "id": "3tBMyOMuAnNP",
        "outputId": "9c625e72-651e-48ff-a7c3-2e4e3991cb06"
      },
      "execution_count": null,
      "outputs": [
        {
          "output_type": "stream",
          "name": "stdout",
          "text": [
            "[[1. 0. 0. 0. 0.]\n",
            " [0. 0. 1. 0. 0.]\n",
            " [0. 0. 0. 1. 0.]\n",
            " [0. 0. 1. 0. 0.]\n",
            " [0. 0. 0. 1. 0.]\n",
            " [0. 0. 0. 1. 0.]\n",
            " [1. 0. 0. 0. 0.]\n",
            " [0. 0. 0. 0. 1.]\n",
            " [0. 0. 1. 0. 0.]\n",
            " [0. 0. 0. 0. 1.]\n",
            " [1. 0. 0. 0. 0.]\n",
            " [0. 0. 0. 1. 0.]\n",
            " [0. 0. 0. 0. 1.]\n",
            " [0. 0. 1. 0. 0.]\n",
            " [0. 1. 0. 0. 0.]\n",
            " [0. 0. 0. 1. 0.]\n",
            " [0. 1. 0. 0. 0.]\n",
            " [0. 0. 0. 1. 0.]\n",
            " [0. 1. 0. 0. 0.]\n",
            " [0. 1. 0. 0. 0.]]\n",
            "(20, 5)\n"
          ]
        }
      ]
    },
    {
      "cell_type": "code",
      "source": [
        "y_pred9=model.predict(x_val)\n",
        "print(y_pred9)\n",
        "print(np.shape(y_pred9))"
      ],
      "metadata": {
        "colab": {
          "base_uri": "https://localhost:8080/"
        },
        "id": "hRokl7mcArrU",
        "outputId": "b936517f-5a07-4be9-cd94-4f58cbebe058"
      },
      "execution_count": null,
      "outputs": [
        {
          "output_type": "stream",
          "name": "stdout",
          "text": [
            "1/1 [==============================] - 0s 122ms/step\n",
            "[[ 2.73565978e-01  3.40265594e-02  2.57248431e-01  2.31243402e-01\n",
            "   2.68268377e-01]\n",
            " [ 2.67417103e-01 -1.42312674e-02  2.99517751e-01  2.68705130e-01\n",
            "   2.23820657e-01]\n",
            " [ 2.66929090e-01 -5.07453345e-02  3.52679342e-01  3.20031494e-01\n",
            "   2.22438782e-01]\n",
            " [ 2.73172408e-01 -5.96404858e-02  3.65319073e-01  3.30239862e-01\n",
            "   2.16154546e-01]\n",
            " [ 2.85615712e-01  4.62778471e-02  2.48310164e-01  2.20588714e-01\n",
            "   2.73643792e-01]\n",
            " [ 3.05997521e-01  8.07866976e-02  2.05607891e-01  1.74642652e-01\n",
            "   2.70717472e-01]\n",
            " [ 3.36887598e-01  8.20861086e-02  2.25073829e-01  1.87861636e-01\n",
            "   2.80556977e-01]\n",
            " [ 2.51252383e-01  4.27295901e-02  2.18909770e-01  1.96455941e-01\n",
            "   2.44327128e-01]\n",
            " [ 3.33341897e-01  6.08668439e-02  2.51786649e-01  2.13895887e-01\n",
            "   2.75467247e-01]\n",
            " [ 2.57471561e-01  1.81804486e-02  2.85351068e-01  2.60350198e-01\n",
            "   2.42088556e-01]\n",
            " [ 2.76043057e-01  3.65158282e-02  2.55602837e-01  2.29265034e-01\n",
            "   2.69624293e-01]\n",
            " [ 2.91790038e-01  5.33125661e-02  2.42366254e-01  2.13768482e-01\n",
            "   2.75993168e-01]\n",
            " [ 2.14798108e-01 -8.67303014e-02  4.02611345e-01  3.83541167e-01\n",
            "   2.60937840e-01]\n",
            " [ 3.05997521e-01  8.07866976e-02  2.05607891e-01  1.74642652e-01\n",
            "   2.70717472e-01]\n",
            " [ 2.41780486e-02  1.13494205e+00 -1.19092669e-02  7.04305992e-02\n",
            "  -1.10008754e-03]\n",
            " [ 2.99808472e-01  6.26591370e-02  2.31376514e-01  2.01222271e-01\n",
            "   2.74045199e-01]\n",
            " [ 2.77673155e-01  3.14429164e-01  1.23103164e-01  1.04264610e-01\n",
            "   1.53638169e-01]\n",
            " [ 3.04739505e-01  7.57888630e-02  2.12209806e-01  1.81258604e-01\n",
            "   2.70403385e-01]\n",
            " [ 4.20475274e-01  2.22595051e-01  1.30226389e-01  7.17246160e-02\n",
            "   1.57164246e-01]\n",
            " [ 2.56279439e-01  4.00491893e-01  6.43399730e-02  5.27255051e-02\n",
            "   1.16501637e-01]]\n",
            "(20, 5)\n"
          ]
        }
      ]
    },
    {
      "cell_type": "code",
      "source": [
        "yt_true9=y_true9.astype(int)\n",
        "print(yt_true9)\n",
        "print(np.shape(yt_true9))"
      ],
      "metadata": {
        "colab": {
          "base_uri": "https://localhost:8080/"
        },
        "id": "ONmGxTNpAwgx",
        "outputId": "231eed74-8798-4117-f29c-547c812ea248"
      },
      "execution_count": null,
      "outputs": [
        {
          "output_type": "stream",
          "name": "stdout",
          "text": [
            "[[1 0 0 0 0]\n",
            " [0 0 1 0 0]\n",
            " [0 0 0 1 0]\n",
            " [0 0 1 0 0]\n",
            " [0 0 0 1 0]\n",
            " [0 0 0 1 0]\n",
            " [1 0 0 0 0]\n",
            " [0 0 0 0 1]\n",
            " [0 0 1 0 0]\n",
            " [0 0 0 0 1]\n",
            " [1 0 0 0 0]\n",
            " [0 0 0 1 0]\n",
            " [0 0 0 0 1]\n",
            " [0 0 1 0 0]\n",
            " [0 1 0 0 0]\n",
            " [0 0 0 1 0]\n",
            " [0 1 0 0 0]\n",
            " [0 0 0 1 0]\n",
            " [0 1 0 0 0]\n",
            " [0 1 0 0 0]]\n",
            "(20, 5)\n"
          ]
        }
      ]
    },
    {
      "cell_type": "code",
      "source": [
        "yp_pred9=np.round(y_pred9)\n",
        "print(yp_pred9)\n",
        "print(np.shape(y_pred9))"
      ],
      "metadata": {
        "colab": {
          "base_uri": "https://localhost:8080/"
        },
        "id": "my2MI9cSA8ih",
        "outputId": "4f998fbb-7a14-409f-8c47-a20b9605b7a0"
      },
      "execution_count": null,
      "outputs": [
        {
          "output_type": "stream",
          "name": "stdout",
          "text": [
            "[[ 0.  0.  0.  0.  0.]\n",
            " [ 0. -0.  0.  0.  0.]\n",
            " [ 0. -0.  0.  0.  0.]\n",
            " [ 0. -0.  0.  0.  0.]\n",
            " [ 0.  0.  0.  0.  0.]\n",
            " [ 0.  0.  0.  0.  0.]\n",
            " [ 0.  0.  0.  0.  0.]\n",
            " [ 0.  0.  0.  0.  0.]\n",
            " [ 0.  0.  0.  0.  0.]\n",
            " [ 0.  0.  0.  0.  0.]\n",
            " [ 0.  0.  0.  0.  0.]\n",
            " [ 0.  0.  0.  0.  0.]\n",
            " [ 0. -0.  0.  0.  0.]\n",
            " [ 0.  0.  0.  0.  0.]\n",
            " [ 0.  1. -0.  0. -0.]\n",
            " [ 0.  0.  0.  0.  0.]\n",
            " [ 0.  0.  0.  0.  0.]\n",
            " [ 0.  0.  0.  0.  0.]\n",
            " [ 0.  0.  0.  0.  0.]\n",
            " [ 0.  0.  0.  0.  0.]]\n",
            "(20, 5)\n"
          ]
        }
      ]
    },
    {
      "cell_type": "code",
      "source": [
        "cm24=mean_absolute_error(yt_true8,yp_pred8)\n",
        "cm25=r2_score(yt_true8,yp_pred8)\n",
        "cm26=explained_variance_score(yt_true8,yp_pred8)\n",
        "print(cm24)\n",
        "print(cm25)\n",
        "print(cm26)"
      ],
      "metadata": {
        "colab": {
          "base_uri": "https://localhost:8080/"
        },
        "id": "hFWDvRumBQSU",
        "outputId": "26bee3b4-7407-4d86-91a7-31899fca8383"
      },
      "execution_count": null,
      "outputs": [
        {
          "output_type": "stream",
          "name": "stdout",
          "text": [
            "0.2260869565217391\n",
            "-0.44590643274853825\n",
            "-0.15789473684210523\n"
          ]
        }
      ]
    },
    {
      "cell_type": "code",
      "source": [
        "cm27=mean_absolute_error(yt_true9,yp_pred9)\n",
        "cm28=r2_score(yt_true9,yp_pred9)\n",
        "cm29=explained_variance_score(yt_true9,yp_pred9)\n",
        "print(cm27)\n",
        "print(cm28)\n",
        "print(cm29)"
      ],
      "metadata": {
        "colab": {
          "base_uri": "https://localhost:8080/"
        },
        "id": "yYGLy78fBQeA",
        "outputId": "d38b04b3-2411-454e-e7f5-b196c3c61462"
      },
      "execution_count": null,
      "outputs": [
        {
          "output_type": "stream",
          "name": "stdout",
          "text": [
            "0.19\n",
            "-0.19380252100840348\n",
            "0.04062500000000002\n"
          ]
        }
      ]
    },
    {
      "cell_type": "code",
      "source": [
        "from sklearn.ensemble import ExtraTreesRegressor"
      ],
      "metadata": {
        "id": "gYRrCUkO0UAD"
      },
      "execution_count": null,
      "outputs": []
    },
    {
      "cell_type": "code",
      "source": [
        "etrg=ExtraTreesRegressor(n_estimators=10,max_depth=None,min_samples_split=2)\n",
        "etrg.fit(training_images,training_labels)"
      ],
      "metadata": {
        "colab": {
          "base_uri": "https://localhost:8080/",
          "height": 75
        },
        "id": "hT2d6Yaf1TAd",
        "outputId": "f09a1506-ca12-44ca-cf24-a77a3240fcea"
      },
      "execution_count": null,
      "outputs": [
        {
          "output_type": "execute_result",
          "data": {
            "text/plain": [
              "ExtraTreesRegressor(n_estimators=10)"
            ],
            "text/html": [
              "<style>#sk-container-id-5 {color: black;background-color: white;}#sk-container-id-5 pre{padding: 0;}#sk-container-id-5 div.sk-toggleable {background-color: white;}#sk-container-id-5 label.sk-toggleable__label {cursor: pointer;display: block;width: 100%;margin-bottom: 0;padding: 0.3em;box-sizing: border-box;text-align: center;}#sk-container-id-5 label.sk-toggleable__label-arrow:before {content: \"▸\";float: left;margin-right: 0.25em;color: #696969;}#sk-container-id-5 label.sk-toggleable__label-arrow:hover:before {color: black;}#sk-container-id-5 div.sk-estimator:hover label.sk-toggleable__label-arrow:before {color: black;}#sk-container-id-5 div.sk-toggleable__content {max-height: 0;max-width: 0;overflow: hidden;text-align: left;background-color: #f0f8ff;}#sk-container-id-5 div.sk-toggleable__content pre {margin: 0.2em;color: black;border-radius: 0.25em;background-color: #f0f8ff;}#sk-container-id-5 input.sk-toggleable__control:checked~div.sk-toggleable__content {max-height: 200px;max-width: 100%;overflow: auto;}#sk-container-id-5 input.sk-toggleable__control:checked~label.sk-toggleable__label-arrow:before {content: \"▾\";}#sk-container-id-5 div.sk-estimator input.sk-toggleable__control:checked~label.sk-toggleable__label {background-color: #d4ebff;}#sk-container-id-5 div.sk-label input.sk-toggleable__control:checked~label.sk-toggleable__label {background-color: #d4ebff;}#sk-container-id-5 input.sk-hidden--visually {border: 0;clip: rect(1px 1px 1px 1px);clip: rect(1px, 1px, 1px, 1px);height: 1px;margin: -1px;overflow: hidden;padding: 0;position: absolute;width: 1px;}#sk-container-id-5 div.sk-estimator {font-family: monospace;background-color: #f0f8ff;border: 1px dotted black;border-radius: 0.25em;box-sizing: border-box;margin-bottom: 0.5em;}#sk-container-id-5 div.sk-estimator:hover {background-color: #d4ebff;}#sk-container-id-5 div.sk-parallel-item::after {content: \"\";width: 100%;border-bottom: 1px solid gray;flex-grow: 1;}#sk-container-id-5 div.sk-label:hover label.sk-toggleable__label {background-color: #d4ebff;}#sk-container-id-5 div.sk-serial::before {content: \"\";position: absolute;border-left: 1px solid gray;box-sizing: border-box;top: 0;bottom: 0;left: 50%;z-index: 0;}#sk-container-id-5 div.sk-serial {display: flex;flex-direction: column;align-items: center;background-color: white;padding-right: 0.2em;padding-left: 0.2em;position: relative;}#sk-container-id-5 div.sk-item {position: relative;z-index: 1;}#sk-container-id-5 div.sk-parallel {display: flex;align-items: stretch;justify-content: center;background-color: white;position: relative;}#sk-container-id-5 div.sk-item::before, #sk-container-id-5 div.sk-parallel-item::before {content: \"\";position: absolute;border-left: 1px solid gray;box-sizing: border-box;top: 0;bottom: 0;left: 50%;z-index: -1;}#sk-container-id-5 div.sk-parallel-item {display: flex;flex-direction: column;z-index: 1;position: relative;background-color: white;}#sk-container-id-5 div.sk-parallel-item:first-child::after {align-self: flex-end;width: 50%;}#sk-container-id-5 div.sk-parallel-item:last-child::after {align-self: flex-start;width: 50%;}#sk-container-id-5 div.sk-parallel-item:only-child::after {width: 0;}#sk-container-id-5 div.sk-dashed-wrapped {border: 1px dashed gray;margin: 0 0.4em 0.5em 0.4em;box-sizing: border-box;padding-bottom: 0.4em;background-color: white;}#sk-container-id-5 div.sk-label label {font-family: monospace;font-weight: bold;display: inline-block;line-height: 1.2em;}#sk-container-id-5 div.sk-label-container {text-align: center;}#sk-container-id-5 div.sk-container {/* jupyter's `normalize.less` sets `[hidden] { display: none; }` but bootstrap.min.css set `[hidden] { display: none !important; }` so we also need the `!important` here to be able to override the default hidden behavior on the sphinx rendered scikit-learn.org. See: https://github.com/scikit-learn/scikit-learn/issues/21755 */display: inline-block !important;position: relative;}#sk-container-id-5 div.sk-text-repr-fallback {display: none;}</style><div id=\"sk-container-id-5\" class=\"sk-top-container\"><div class=\"sk-text-repr-fallback\"><pre>ExtraTreesRegressor(n_estimators=10)</pre><b>In a Jupyter environment, please rerun this cell to show the HTML representation or trust the notebook. <br />On GitHub, the HTML representation is unable to render, please try loading this page with nbviewer.org.</b></div><div class=\"sk-container\" hidden><div class=\"sk-item\"><div class=\"sk-estimator sk-toggleable\"><input class=\"sk-toggleable__control sk-hidden--visually\" id=\"sk-estimator-id-5\" type=\"checkbox\" checked><label for=\"sk-estimator-id-5\" class=\"sk-toggleable__label sk-toggleable__label-arrow\">ExtraTreesRegressor</label><div class=\"sk-toggleable__content\"><pre>ExtraTreesRegressor(n_estimators=10)</pre></div></div></div></div></div>"
            ]
          },
          "metadata": {},
          "execution_count": 95
        }
      ]
    },
    {
      "cell_type": "code",
      "source": [
        "y_true10=y_test\n",
        "print(y_true10)\n",
        "print(np.shape(y_true10))"
      ],
      "metadata": {
        "colab": {
          "base_uri": "https://localhost:8080/"
        },
        "id": "KpbjmxP611D9",
        "outputId": "3f86c790-7371-4a30-8b88-390ea87f05b4"
      },
      "execution_count": null,
      "outputs": [
        {
          "output_type": "stream",
          "name": "stdout",
          "text": [
            "[[0. 0. 0. 0. 1.]\n",
            " [0. 1. 0. 0. 0.]\n",
            " [0. 0. 1. 0. 0.]\n",
            " [1. 0. 0. 0. 0.]\n",
            " [0. 0. 0. 1. 0.]\n",
            " [0. 1. 0. 0. 0.]\n",
            " [0. 0. 0. 0. 1.]\n",
            " [0. 0. 0. 1. 0.]\n",
            " [0. 0. 0. 1. 0.]\n",
            " [0. 0. 0. 1. 0.]\n",
            " [0. 0. 0. 0. 1.]\n",
            " [1. 0. 0. 0. 0.]\n",
            " [0. 0. 1. 0. 0.]\n",
            " [0. 0. 1. 0. 0.]\n",
            " [0. 0. 0. 1. 0.]\n",
            " [1. 0. 0. 0. 0.]\n",
            " [0. 1. 0. 0. 0.]\n",
            " [0. 0. 0. 1. 0.]\n",
            " [0. 0. 0. 1. 0.]\n",
            " [0. 0. 0. 1. 0.]\n",
            " [0. 1. 0. 0. 0.]\n",
            " [1. 0. 0. 0. 0.]\n",
            " [1. 0. 0. 0. 0.]]\n",
            "(23, 5)\n"
          ]
        }
      ]
    },
    {
      "cell_type": "code",
      "source": [
        "y_pred10=model.predict(x_test)\n",
        "print(y_pred10)\n",
        "print(np.shape(y_pred10))"
      ],
      "metadata": {
        "colab": {
          "base_uri": "https://localhost:8080/"
        },
        "id": "i2OEHqab2VfX",
        "outputId": "de90090b-8cda-4f9c-cb51-9de6c4057f7b"
      },
      "execution_count": null,
      "outputs": [
        {
          "output_type": "stream",
          "name": "stdout",
          "text": [
            "1/1 [==============================] - 0s 265ms/step\n",
            "[[ 0.08797663  0.8314718  -0.04568015  0.00304323  0.02624518]\n",
            " [ 0.1389129   0.7136681  -0.07212432 -0.04192946  0.04799462]\n",
            " [ 0.25747156  0.01818045  0.28535107  0.2603502   0.24208856]\n",
            " [ 0.06152423  0.7658386  -0.02081118  0.02917504  0.01472724]\n",
            " [ 0.02237388 -0.0925495   0.35473844  0.38583076  0.32940128]\n",
            " [ 0.1549787   0.6079173   0.05517184  0.0779165   0.07319792]\n",
            " [ 0.26949435  0.14337951  0.20622183  0.18210652  0.19494319]\n",
            " [ 0.2344856   0.15470627  0.23265973  0.21942045  0.21407479]\n",
            " [ 0.2972498   0.06006638  0.23549804  0.20603311  0.27668422]\n",
            " [ 0.39428735  0.17702405  0.08710026  0.03174811  0.16298486]\n",
            " [ 0.24182779  0.23344892  0.19200157  0.17984657  0.18913569]\n",
            " [ 0.06662377  0.5255836   0.07947458  0.12069792  0.10773192]\n",
            " [ 0.08797663  0.8314718  -0.04568015  0.00304323  0.02624518]\n",
            " [ 0.08847507  0.9721292  -0.04534857  0.01266077  0.02636368]\n",
            " [ 0.29473177  0.00603929  0.2847644   0.24886829  0.22648737]\n",
            " [ 0.24493769  0.42939472  0.12140698  0.11628883  0.13209794]\n",
            " [ 0.20997752  0.46177793 -0.0323232  -0.03337998  0.07306931]\n",
            " [ 0.2994682   0.06207735  0.23420437  0.20440955  0.2776548 ]\n",
            " [ 0.27590743  0.17914228  0.17843603  0.15440439  0.18900153]\n",
            " [ 0.31147757  0.07647973  0.22804622  0.19752161  0.29316342]\n",
            " [ 0.11610713  0.6788467   0.02998727  0.06532537  0.05949336]\n",
            " [ 0.10566359  0.48920557  0.09852371  0.12953812  0.12379108]\n",
            " [ 0.07635411  0.6263825  -0.03258346  0.00572761  0.03098746]]\n",
            "(23, 5)\n"
          ]
        }
      ]
    },
    {
      "cell_type": "code",
      "source": [
        "yt_true10=y_true10.astype(int)\n",
        "print(yt_true10)\n",
        "print(np.shape(yt_true10))"
      ],
      "metadata": {
        "colab": {
          "base_uri": "https://localhost:8080/"
        },
        "id": "CnhkEGhp2ivy",
        "outputId": "a81c3c01-9e52-440f-f812-d46838fe4e87"
      },
      "execution_count": null,
      "outputs": [
        {
          "output_type": "stream",
          "name": "stdout",
          "text": [
            "[[0 0 0 0 1]\n",
            " [0 1 0 0 0]\n",
            " [0 0 1 0 0]\n",
            " [1 0 0 0 0]\n",
            " [0 0 0 1 0]\n",
            " [0 1 0 0 0]\n",
            " [0 0 0 0 1]\n",
            " [0 0 0 1 0]\n",
            " [0 0 0 1 0]\n",
            " [0 0 0 1 0]\n",
            " [0 0 0 0 1]\n",
            " [1 0 0 0 0]\n",
            " [0 0 1 0 0]\n",
            " [0 0 1 0 0]\n",
            " [0 0 0 1 0]\n",
            " [1 0 0 0 0]\n",
            " [0 1 0 0 0]\n",
            " [0 0 0 1 0]\n",
            " [0 0 0 1 0]\n",
            " [0 0 0 1 0]\n",
            " [0 1 0 0 0]\n",
            " [1 0 0 0 0]\n",
            " [1 0 0 0 0]]\n",
            "(23, 5)\n"
          ]
        }
      ]
    },
    {
      "cell_type": "code",
      "source": [
        "yp_pred10=np.round(y_pred10)\n",
        "print(yp_pred10)\n",
        "print(np.shape(y_pred10))"
      ],
      "metadata": {
        "colab": {
          "base_uri": "https://localhost:8080/"
        },
        "id": "IUDorUdz2tb6",
        "outputId": "4fc4d2fb-6609-42e8-b8e1-a638ebb88c05"
      },
      "execution_count": null,
      "outputs": [
        {
          "output_type": "stream",
          "name": "stdout",
          "text": [
            "[[ 0.  1. -0.  0.  0.]\n",
            " [ 0.  1. -0. -0.  0.]\n",
            " [ 0.  0.  0.  0.  0.]\n",
            " [ 0.  1. -0.  0.  0.]\n",
            " [ 0. -0.  0.  0.  0.]\n",
            " [ 0.  1.  0.  0.  0.]\n",
            " [ 0.  0.  0.  0.  0.]\n",
            " [ 0.  0.  0.  0.  0.]\n",
            " [ 0.  0.  0.  0.  0.]\n",
            " [ 0.  0.  0.  0.  0.]\n",
            " [ 0.  0.  0.  0.  0.]\n",
            " [ 0.  1.  0.  0.  0.]\n",
            " [ 0.  1. -0.  0.  0.]\n",
            " [ 0.  1. -0.  0.  0.]\n",
            " [ 0.  0.  0.  0.  0.]\n",
            " [ 0.  0.  0.  0.  0.]\n",
            " [ 0.  0. -0. -0.  0.]\n",
            " [ 0.  0.  0.  0.  0.]\n",
            " [ 0.  0.  0.  0.  0.]\n",
            " [ 0.  0.  0.  0.  0.]\n",
            " [ 0.  1.  0.  0.  0.]\n",
            " [ 0.  0.  0.  0.  0.]\n",
            " [ 0.  1. -0.  0.  0.]]\n",
            "(23, 5)\n"
          ]
        }
      ]
    },
    {
      "cell_type": "code",
      "source": [
        "y_true11=y_val\n",
        "print(y_true11)\n",
        "print(np.shape(y_true11))"
      ],
      "metadata": {
        "colab": {
          "base_uri": "https://localhost:8080/"
        },
        "id": "XJbqX-c0CRGH",
        "outputId": "604ede57-96ee-49ab-d17d-66e6ce1bf321"
      },
      "execution_count": null,
      "outputs": [
        {
          "output_type": "stream",
          "name": "stdout",
          "text": [
            "[[1. 0. 0. 0. 0.]\n",
            " [0. 0. 1. 0. 0.]\n",
            " [0. 0. 0. 1. 0.]\n",
            " [0. 0. 1. 0. 0.]\n",
            " [0. 0. 0. 1. 0.]\n",
            " [0. 0. 0. 1. 0.]\n",
            " [1. 0. 0. 0. 0.]\n",
            " [0. 0. 0. 0. 1.]\n",
            " [0. 0. 1. 0. 0.]\n",
            " [0. 0. 0. 0. 1.]\n",
            " [1. 0. 0. 0. 0.]\n",
            " [0. 0. 0. 1. 0.]\n",
            " [0. 0. 0. 0. 1.]\n",
            " [0. 0. 1. 0. 0.]\n",
            " [0. 1. 0. 0. 0.]\n",
            " [0. 0. 0. 1. 0.]\n",
            " [0. 1. 0. 0. 0.]\n",
            " [0. 0. 0. 1. 0.]\n",
            " [0. 1. 0. 0. 0.]\n",
            " [0. 1. 0. 0. 0.]]\n",
            "(20, 5)\n"
          ]
        }
      ]
    },
    {
      "cell_type": "code",
      "source": [
        "y_pred11=model.predict(x_val)\n",
        "print(y_pred11)\n",
        "print(np.shape(y_pred11))"
      ],
      "metadata": {
        "colab": {
          "base_uri": "https://localhost:8080/"
        },
        "id": "zbzoBs_6CZhu",
        "outputId": "485cface-2da6-4da5-9b6c-b90695fb3711"
      },
      "execution_count": null,
      "outputs": [
        {
          "output_type": "stream",
          "name": "stdout",
          "text": [
            "1/1 [==============================] - 0s 237ms/step\n",
            "[[ 2.73565978e-01  3.40265594e-02  2.57248431e-01  2.31243402e-01\n",
            "   2.68268377e-01]\n",
            " [ 2.67417103e-01 -1.42312674e-02  2.99517751e-01  2.68705130e-01\n",
            "   2.23820657e-01]\n",
            " [ 2.66929090e-01 -5.07453345e-02  3.52679342e-01  3.20031494e-01\n",
            "   2.22438782e-01]\n",
            " [ 2.73172408e-01 -5.96404858e-02  3.65319073e-01  3.30239862e-01\n",
            "   2.16154546e-01]\n",
            " [ 2.85615712e-01  4.62778471e-02  2.48310164e-01  2.20588714e-01\n",
            "   2.73643792e-01]\n",
            " [ 3.05997521e-01  8.07866976e-02  2.05607891e-01  1.74642652e-01\n",
            "   2.70717472e-01]\n",
            " [ 3.36887598e-01  8.20861086e-02  2.25073829e-01  1.87861636e-01\n",
            "   2.80556977e-01]\n",
            " [ 2.51252383e-01  4.27295901e-02  2.18909770e-01  1.96455941e-01\n",
            "   2.44327128e-01]\n",
            " [ 3.33341897e-01  6.08668439e-02  2.51786649e-01  2.13895887e-01\n",
            "   2.75467247e-01]\n",
            " [ 2.57471561e-01  1.81804486e-02  2.85351068e-01  2.60350198e-01\n",
            "   2.42088556e-01]\n",
            " [ 2.76043057e-01  3.65158282e-02  2.55602837e-01  2.29265034e-01\n",
            "   2.69624293e-01]\n",
            " [ 2.91790038e-01  5.33125661e-02  2.42366254e-01  2.13768482e-01\n",
            "   2.75993168e-01]\n",
            " [ 2.14798108e-01 -8.67303014e-02  4.02611345e-01  3.83541167e-01\n",
            "   2.60937840e-01]\n",
            " [ 3.05997521e-01  8.07866976e-02  2.05607891e-01  1.74642652e-01\n",
            "   2.70717472e-01]\n",
            " [ 2.41780486e-02  1.13494205e+00 -1.19092669e-02  7.04305992e-02\n",
            "  -1.10008754e-03]\n",
            " [ 2.99808472e-01  6.26591370e-02  2.31376514e-01  2.01222271e-01\n",
            "   2.74045199e-01]\n",
            " [ 2.77673155e-01  3.14429164e-01  1.23103164e-01  1.04264610e-01\n",
            "   1.53638169e-01]\n",
            " [ 3.04739505e-01  7.57888630e-02  2.12209806e-01  1.81258604e-01\n",
            "   2.70403385e-01]\n",
            " [ 4.20475274e-01  2.22595051e-01  1.30226389e-01  7.17246160e-02\n",
            "   1.57164246e-01]\n",
            " [ 2.56279439e-01  4.00491893e-01  6.43399730e-02  5.27255051e-02\n",
            "   1.16501637e-01]]\n",
            "(20, 5)\n"
          ]
        }
      ]
    },
    {
      "cell_type": "code",
      "source": [
        "yt_true11=y_true11.astype(int)\n",
        "print(yt_true11)\n",
        "print(np.shape(yt_true11))"
      ],
      "metadata": {
        "colab": {
          "base_uri": "https://localhost:8080/"
        },
        "id": "25SSt27lCRUF",
        "outputId": "88854cf3-a732-4e44-e36a-5864f08fe252"
      },
      "execution_count": null,
      "outputs": [
        {
          "output_type": "stream",
          "name": "stdout",
          "text": [
            "[[1 0 0 0 0]\n",
            " [0 0 1 0 0]\n",
            " [0 0 0 1 0]\n",
            " [0 0 1 0 0]\n",
            " [0 0 0 1 0]\n",
            " [0 0 0 1 0]\n",
            " [1 0 0 0 0]\n",
            " [0 0 0 0 1]\n",
            " [0 0 1 0 0]\n",
            " [0 0 0 0 1]\n",
            " [1 0 0 0 0]\n",
            " [0 0 0 1 0]\n",
            " [0 0 0 0 1]\n",
            " [0 0 1 0 0]\n",
            " [0 1 0 0 0]\n",
            " [0 0 0 1 0]\n",
            " [0 1 0 0 0]\n",
            " [0 0 0 1 0]\n",
            " [0 1 0 0 0]\n",
            " [0 1 0 0 0]]\n",
            "(20, 5)\n"
          ]
        }
      ]
    },
    {
      "cell_type": "code",
      "source": [
        "yp_pred11=np.round(y_pred11)\n",
        "print(yp_pred11)\n",
        "print(np.shape(y_pred11))"
      ],
      "metadata": {
        "colab": {
          "base_uri": "https://localhost:8080/"
        },
        "id": "Qs6wnCz3Cifp",
        "outputId": "a8361ce6-74c0-4377-bd51-d39260a54735"
      },
      "execution_count": null,
      "outputs": [
        {
          "output_type": "stream",
          "name": "stdout",
          "text": [
            "[[ 0.  0.  0.  0.  0.]\n",
            " [ 0. -0.  0.  0.  0.]\n",
            " [ 0. -0.  0.  0.  0.]\n",
            " [ 0. -0.  0.  0.  0.]\n",
            " [ 0.  0.  0.  0.  0.]\n",
            " [ 0.  0.  0.  0.  0.]\n",
            " [ 0.  0.  0.  0.  0.]\n",
            " [ 0.  0.  0.  0.  0.]\n",
            " [ 0.  0.  0.  0.  0.]\n",
            " [ 0.  0.  0.  0.  0.]\n",
            " [ 0.  0.  0.  0.  0.]\n",
            " [ 0.  0.  0.  0.  0.]\n",
            " [ 0. -0.  0.  0.  0.]\n",
            " [ 0.  0.  0.  0.  0.]\n",
            " [ 0.  1. -0.  0. -0.]\n",
            " [ 0.  0.  0.  0.  0.]\n",
            " [ 0.  0.  0.  0.  0.]\n",
            " [ 0.  0.  0.  0.  0.]\n",
            " [ 0.  0.  0.  0.  0.]\n",
            " [ 0.  0.  0.  0.  0.]]\n",
            "(20, 5)\n"
          ]
        }
      ]
    },
    {
      "cell_type": "code",
      "source": [
        "cm30=mean_absolute_error(yt_true10,yp_pred10)\n",
        "cm31=r2_score(yt_true10,yp_pred10)\n",
        "cm32=explained_variance_score(yt_true10,yp_pred10)\n",
        "print(cm30)\n",
        "print(cm31)\n",
        "print(cm32)"
      ],
      "metadata": {
        "colab": {
          "base_uri": "https://localhost:8080/"
        },
        "id": "oDS_V89KCmoR",
        "outputId": "e72ee382-4cc4-4c01-ca50-15a2448f608d"
      },
      "execution_count": null,
      "outputs": [
        {
          "output_type": "stream",
          "name": "stdout",
          "text": [
            "0.2260869565217391\n",
            "-0.44590643274853825\n",
            "-0.15789473684210523\n"
          ]
        }
      ]
    },
    {
      "cell_type": "code",
      "source": [
        "cm33=mean_absolute_error(yt_true11,yp_pred11)\n",
        "cm34=r2_score(yt_true11,yp_pred11)\n",
        "cm35=explained_variance_score(yt_true11,yp_pred11)\n",
        "print(cm33)\n",
        "print(cm34)\n",
        "print(cm35)"
      ],
      "metadata": {
        "colab": {
          "base_uri": "https://localhost:8080/"
        },
        "id": "rlS0cEl4CnYE",
        "outputId": "a03dcf9b-bdc1-43f3-8a07-2679ff5dd207"
      },
      "execution_count": null,
      "outputs": [
        {
          "output_type": "stream",
          "name": "stdout",
          "text": [
            "0.19\n",
            "-0.19380252100840348\n",
            "0.04062500000000002\n"
          ]
        }
      ]
    }
  ]
}